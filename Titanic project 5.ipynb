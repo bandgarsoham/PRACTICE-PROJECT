{
 "cells": [
  {
   "cell_type": "markdown",
   "id": "f9806182",
   "metadata": {},
   "source": [
    "### importing Modules"
   ]
  },
  {
   "cell_type": "code",
   "execution_count": 1,
   "id": "95614dd1",
   "metadata": {},
   "outputs": [],
   "source": [
    "import pandas as pd #importing all the libraries\n",
    "import numpy as np\n",
    "import matplotlib.pyplot as plt\n",
    "import seaborn as sns \n",
    "import sklearn\n",
    "import scipy\n",
    "import warnings\n",
    "warnings.filterwarnings(\"ignore\")"
   ]
  },
  {
   "cell_type": "markdown",
   "id": "f7572a57",
   "metadata": {},
   "source": [
    "### Loding The Dataset"
   ]
  },
  {
   "cell_type": "code",
   "execution_count": 2,
   "id": "bf8be48c",
   "metadata": {
    "scrolled": true
   },
   "outputs": [
    {
     "data": {
      "text/html": [
       "<div>\n",
       "<style scoped>\n",
       "    .dataframe tbody tr th:only-of-type {\n",
       "        vertical-align: middle;\n",
       "    }\n",
       "\n",
       "    .dataframe tbody tr th {\n",
       "        vertical-align: top;\n",
       "    }\n",
       "\n",
       "    .dataframe thead th {\n",
       "        text-align: right;\n",
       "    }\n",
       "</style>\n",
       "<table border=\"1\" class=\"dataframe\">\n",
       "  <thead>\n",
       "    <tr style=\"text-align: right;\">\n",
       "      <th></th>\n",
       "      <th>PassengerId</th>\n",
       "      <th>Survived</th>\n",
       "      <th>Pclass</th>\n",
       "      <th>Name</th>\n",
       "      <th>Sex</th>\n",
       "      <th>Age</th>\n",
       "      <th>SibSp</th>\n",
       "      <th>Parch</th>\n",
       "      <th>Ticket</th>\n",
       "      <th>Fare</th>\n",
       "      <th>Cabin</th>\n",
       "      <th>Embarked</th>\n",
       "    </tr>\n",
       "  </thead>\n",
       "  <tbody>\n",
       "    <tr>\n",
       "      <th>0</th>\n",
       "      <td>1</td>\n",
       "      <td>0</td>\n",
       "      <td>3</td>\n",
       "      <td>Braund, Mr. Owen Harris</td>\n",
       "      <td>male</td>\n",
       "      <td>22.0</td>\n",
       "      <td>1</td>\n",
       "      <td>0</td>\n",
       "      <td>A/5 21171</td>\n",
       "      <td>7.2500</td>\n",
       "      <td>NaN</td>\n",
       "      <td>S</td>\n",
       "    </tr>\n",
       "    <tr>\n",
       "      <th>1</th>\n",
       "      <td>2</td>\n",
       "      <td>1</td>\n",
       "      <td>1</td>\n",
       "      <td>Cumings, Mrs. John Bradley (Florence Briggs Th...</td>\n",
       "      <td>female</td>\n",
       "      <td>38.0</td>\n",
       "      <td>1</td>\n",
       "      <td>0</td>\n",
       "      <td>PC 17599</td>\n",
       "      <td>71.2833</td>\n",
       "      <td>C85</td>\n",
       "      <td>C</td>\n",
       "    </tr>\n",
       "    <tr>\n",
       "      <th>2</th>\n",
       "      <td>3</td>\n",
       "      <td>1</td>\n",
       "      <td>3</td>\n",
       "      <td>Heikkinen, Miss. Laina</td>\n",
       "      <td>female</td>\n",
       "      <td>26.0</td>\n",
       "      <td>0</td>\n",
       "      <td>0</td>\n",
       "      <td>STON/O2. 3101282</td>\n",
       "      <td>7.9250</td>\n",
       "      <td>NaN</td>\n",
       "      <td>S</td>\n",
       "    </tr>\n",
       "    <tr>\n",
       "      <th>3</th>\n",
       "      <td>4</td>\n",
       "      <td>1</td>\n",
       "      <td>1</td>\n",
       "      <td>Futrelle, Mrs. Jacques Heath (Lily May Peel)</td>\n",
       "      <td>female</td>\n",
       "      <td>35.0</td>\n",
       "      <td>1</td>\n",
       "      <td>0</td>\n",
       "      <td>113803</td>\n",
       "      <td>53.1000</td>\n",
       "      <td>C123</td>\n",
       "      <td>S</td>\n",
       "    </tr>\n",
       "    <tr>\n",
       "      <th>4</th>\n",
       "      <td>5</td>\n",
       "      <td>0</td>\n",
       "      <td>3</td>\n",
       "      <td>Allen, Mr. William Henry</td>\n",
       "      <td>male</td>\n",
       "      <td>35.0</td>\n",
       "      <td>0</td>\n",
       "      <td>0</td>\n",
       "      <td>373450</td>\n",
       "      <td>8.0500</td>\n",
       "      <td>NaN</td>\n",
       "      <td>S</td>\n",
       "    </tr>\n",
       "    <tr>\n",
       "      <th>...</th>\n",
       "      <td>...</td>\n",
       "      <td>...</td>\n",
       "      <td>...</td>\n",
       "      <td>...</td>\n",
       "      <td>...</td>\n",
       "      <td>...</td>\n",
       "      <td>...</td>\n",
       "      <td>...</td>\n",
       "      <td>...</td>\n",
       "      <td>...</td>\n",
       "      <td>...</td>\n",
       "      <td>...</td>\n",
       "    </tr>\n",
       "    <tr>\n",
       "      <th>886</th>\n",
       "      <td>887</td>\n",
       "      <td>0</td>\n",
       "      <td>2</td>\n",
       "      <td>Montvila, Rev. Juozas</td>\n",
       "      <td>male</td>\n",
       "      <td>27.0</td>\n",
       "      <td>0</td>\n",
       "      <td>0</td>\n",
       "      <td>211536</td>\n",
       "      <td>13.0000</td>\n",
       "      <td>NaN</td>\n",
       "      <td>S</td>\n",
       "    </tr>\n",
       "    <tr>\n",
       "      <th>887</th>\n",
       "      <td>888</td>\n",
       "      <td>1</td>\n",
       "      <td>1</td>\n",
       "      <td>Graham, Miss. Margaret Edith</td>\n",
       "      <td>female</td>\n",
       "      <td>19.0</td>\n",
       "      <td>0</td>\n",
       "      <td>0</td>\n",
       "      <td>112053</td>\n",
       "      <td>30.0000</td>\n",
       "      <td>B42</td>\n",
       "      <td>S</td>\n",
       "    </tr>\n",
       "    <tr>\n",
       "      <th>888</th>\n",
       "      <td>889</td>\n",
       "      <td>0</td>\n",
       "      <td>3</td>\n",
       "      <td>Johnston, Miss. Catherine Helen \"Carrie\"</td>\n",
       "      <td>female</td>\n",
       "      <td>NaN</td>\n",
       "      <td>1</td>\n",
       "      <td>2</td>\n",
       "      <td>W./C. 6607</td>\n",
       "      <td>23.4500</td>\n",
       "      <td>NaN</td>\n",
       "      <td>S</td>\n",
       "    </tr>\n",
       "    <tr>\n",
       "      <th>889</th>\n",
       "      <td>890</td>\n",
       "      <td>1</td>\n",
       "      <td>1</td>\n",
       "      <td>Behr, Mr. Karl Howell</td>\n",
       "      <td>male</td>\n",
       "      <td>26.0</td>\n",
       "      <td>0</td>\n",
       "      <td>0</td>\n",
       "      <td>111369</td>\n",
       "      <td>30.0000</td>\n",
       "      <td>C148</td>\n",
       "      <td>C</td>\n",
       "    </tr>\n",
       "    <tr>\n",
       "      <th>890</th>\n",
       "      <td>891</td>\n",
       "      <td>0</td>\n",
       "      <td>3</td>\n",
       "      <td>Dooley, Mr. Patrick</td>\n",
       "      <td>male</td>\n",
       "      <td>32.0</td>\n",
       "      <td>0</td>\n",
       "      <td>0</td>\n",
       "      <td>370376</td>\n",
       "      <td>7.7500</td>\n",
       "      <td>NaN</td>\n",
       "      <td>Q</td>\n",
       "    </tr>\n",
       "  </tbody>\n",
       "</table>\n",
       "<p>891 rows × 12 columns</p>\n",
       "</div>"
      ],
      "text/plain": [
       "     PassengerId  Survived  Pclass  \\\n",
       "0              1         0       3   \n",
       "1              2         1       1   \n",
       "2              3         1       3   \n",
       "3              4         1       1   \n",
       "4              5         0       3   \n",
       "..           ...       ...     ...   \n",
       "886          887         0       2   \n",
       "887          888         1       1   \n",
       "888          889         0       3   \n",
       "889          890         1       1   \n",
       "890          891         0       3   \n",
       "\n",
       "                                                  Name     Sex   Age  SibSp  \\\n",
       "0                              Braund, Mr. Owen Harris    male  22.0      1   \n",
       "1    Cumings, Mrs. John Bradley (Florence Briggs Th...  female  38.0      1   \n",
       "2                               Heikkinen, Miss. Laina  female  26.0      0   \n",
       "3         Futrelle, Mrs. Jacques Heath (Lily May Peel)  female  35.0      1   \n",
       "4                             Allen, Mr. William Henry    male  35.0      0   \n",
       "..                                                 ...     ...   ...    ...   \n",
       "886                              Montvila, Rev. Juozas    male  27.0      0   \n",
       "887                       Graham, Miss. Margaret Edith  female  19.0      0   \n",
       "888           Johnston, Miss. Catherine Helen \"Carrie\"  female   NaN      1   \n",
       "889                              Behr, Mr. Karl Howell    male  26.0      0   \n",
       "890                                Dooley, Mr. Patrick    male  32.0      0   \n",
       "\n",
       "     Parch            Ticket     Fare Cabin Embarked  \n",
       "0        0         A/5 21171   7.2500   NaN        S  \n",
       "1        0          PC 17599  71.2833   C85        C  \n",
       "2        0  STON/O2. 3101282   7.9250   NaN        S  \n",
       "3        0            113803  53.1000  C123        S  \n",
       "4        0            373450   8.0500   NaN        S  \n",
       "..     ...               ...      ...   ...      ...  \n",
       "886      0            211536  13.0000   NaN        S  \n",
       "887      0            112053  30.0000   B42        S  \n",
       "888      2        W./C. 6607  23.4500   NaN        S  \n",
       "889      0            111369  30.0000  C148        C  \n",
       "890      0            370376   7.7500   NaN        Q  \n",
       "\n",
       "[891 rows x 12 columns]"
      ]
     },
     "execution_count": 2,
     "metadata": {},
     "output_type": "execute_result"
    }
   ],
   "source": [
    "df=pd.read_csv('https://raw.githubusercontent.com/dsrscientist/dataset1/master/titanic_train.csv') \n",
    "#import file from  github\n",
    "df"
   ]
  },
  {
   "cell_type": "code",
   "execution_count": 3,
   "id": "13d9b6b5",
   "metadata": {
    "scrolled": true
   },
   "outputs": [
    {
     "name": "stdout",
     "output_type": "stream",
     "text": [
      "<class 'pandas.core.frame.DataFrame'>\n",
      "RangeIndex: 891 entries, 0 to 890\n",
      "Data columns (total 12 columns):\n",
      " #   Column       Non-Null Count  Dtype  \n",
      "---  ------       --------------  -----  \n",
      " 0   PassengerId  891 non-null    int64  \n",
      " 1   Survived     891 non-null    int64  \n",
      " 2   Pclass       891 non-null    int64  \n",
      " 3   Name         891 non-null    object \n",
      " 4   Sex          891 non-null    object \n",
      " 5   Age          714 non-null    float64\n",
      " 6   SibSp        891 non-null    int64  \n",
      " 7   Parch        891 non-null    int64  \n",
      " 8   Ticket       891 non-null    object \n",
      " 9   Fare         891 non-null    float64\n",
      " 10  Cabin        204 non-null    object \n",
      " 11  Embarked     889 non-null    object \n",
      "dtypes: float64(2), int64(5), object(5)\n",
      "memory usage: 83.7+ KB\n"
     ]
    }
   ],
   "source": [
    "df.info() # the training set has 891 examples and 11 features plus target variuable survived."
   ]
  },
  {
   "cell_type": "code",
   "execution_count": 4,
   "id": "f9306289",
   "metadata": {
    "scrolled": true
   },
   "outputs": [
    {
     "data": {
      "text/plain": [
       "PassengerId      int64\n",
       "Survived         int64\n",
       "Pclass           int64\n",
       "Name            object\n",
       "Sex             object\n",
       "Age            float64\n",
       "SibSp            int64\n",
       "Parch            int64\n",
       "Ticket          object\n",
       "Fare           float64\n",
       "Cabin           object\n",
       "Embarked        object\n",
       "dtype: object"
      ]
     },
     "execution_count": 4,
     "metadata": {},
     "output_type": "execute_result"
    }
   ],
   "source": [
    "df.dtypes #checking dataset types, 2 of the features are float 5 are integers and 5 are object"
   ]
  },
  {
   "cell_type": "code",
   "execution_count": 5,
   "id": "b4a06570",
   "metadata": {
    "scrolled": true
   },
   "outputs": [
    {
     "data": {
      "text/html": [
       "<div>\n",
       "<style scoped>\n",
       "    .dataframe tbody tr th:only-of-type {\n",
       "        vertical-align: middle;\n",
       "    }\n",
       "\n",
       "    .dataframe tbody tr th {\n",
       "        vertical-align: top;\n",
       "    }\n",
       "\n",
       "    .dataframe thead th {\n",
       "        text-align: right;\n",
       "    }\n",
       "</style>\n",
       "<table border=\"1\" class=\"dataframe\">\n",
       "  <thead>\n",
       "    <tr style=\"text-align: right;\">\n",
       "      <th></th>\n",
       "      <th>PassengerId</th>\n",
       "      <th>Survived</th>\n",
       "      <th>Pclass</th>\n",
       "      <th>Age</th>\n",
       "      <th>SibSp</th>\n",
       "      <th>Parch</th>\n",
       "      <th>Fare</th>\n",
       "    </tr>\n",
       "  </thead>\n",
       "  <tbody>\n",
       "    <tr>\n",
       "      <th>count</th>\n",
       "      <td>891.000000</td>\n",
       "      <td>891.000000</td>\n",
       "      <td>891.000000</td>\n",
       "      <td>714.000000</td>\n",
       "      <td>891.000000</td>\n",
       "      <td>891.000000</td>\n",
       "      <td>891.000000</td>\n",
       "    </tr>\n",
       "    <tr>\n",
       "      <th>mean</th>\n",
       "      <td>446.000000</td>\n",
       "      <td>0.383838</td>\n",
       "      <td>2.308642</td>\n",
       "      <td>29.699118</td>\n",
       "      <td>0.523008</td>\n",
       "      <td>0.381594</td>\n",
       "      <td>32.204208</td>\n",
       "    </tr>\n",
       "    <tr>\n",
       "      <th>std</th>\n",
       "      <td>257.353842</td>\n",
       "      <td>0.486592</td>\n",
       "      <td>0.836071</td>\n",
       "      <td>14.526497</td>\n",
       "      <td>1.102743</td>\n",
       "      <td>0.806057</td>\n",
       "      <td>49.693429</td>\n",
       "    </tr>\n",
       "    <tr>\n",
       "      <th>min</th>\n",
       "      <td>1.000000</td>\n",
       "      <td>0.000000</td>\n",
       "      <td>1.000000</td>\n",
       "      <td>0.420000</td>\n",
       "      <td>0.000000</td>\n",
       "      <td>0.000000</td>\n",
       "      <td>0.000000</td>\n",
       "    </tr>\n",
       "    <tr>\n",
       "      <th>25%</th>\n",
       "      <td>223.500000</td>\n",
       "      <td>0.000000</td>\n",
       "      <td>2.000000</td>\n",
       "      <td>20.125000</td>\n",
       "      <td>0.000000</td>\n",
       "      <td>0.000000</td>\n",
       "      <td>7.910400</td>\n",
       "    </tr>\n",
       "    <tr>\n",
       "      <th>50%</th>\n",
       "      <td>446.000000</td>\n",
       "      <td>0.000000</td>\n",
       "      <td>3.000000</td>\n",
       "      <td>28.000000</td>\n",
       "      <td>0.000000</td>\n",
       "      <td>0.000000</td>\n",
       "      <td>14.454200</td>\n",
       "    </tr>\n",
       "    <tr>\n",
       "      <th>75%</th>\n",
       "      <td>668.500000</td>\n",
       "      <td>1.000000</td>\n",
       "      <td>3.000000</td>\n",
       "      <td>38.000000</td>\n",
       "      <td>1.000000</td>\n",
       "      <td>0.000000</td>\n",
       "      <td>31.000000</td>\n",
       "    </tr>\n",
       "    <tr>\n",
       "      <th>max</th>\n",
       "      <td>891.000000</td>\n",
       "      <td>1.000000</td>\n",
       "      <td>3.000000</td>\n",
       "      <td>80.000000</td>\n",
       "      <td>8.000000</td>\n",
       "      <td>6.000000</td>\n",
       "      <td>512.329200</td>\n",
       "    </tr>\n",
       "  </tbody>\n",
       "</table>\n",
       "</div>"
      ],
      "text/plain": [
       "       PassengerId    Survived      Pclass         Age       SibSp  \\\n",
       "count   891.000000  891.000000  891.000000  714.000000  891.000000   \n",
       "mean    446.000000    0.383838    2.308642   29.699118    0.523008   \n",
       "std     257.353842    0.486592    0.836071   14.526497    1.102743   \n",
       "min       1.000000    0.000000    1.000000    0.420000    0.000000   \n",
       "25%     223.500000    0.000000    2.000000   20.125000    0.000000   \n",
       "50%     446.000000    0.000000    3.000000   28.000000    0.000000   \n",
       "75%     668.500000    1.000000    3.000000   38.000000    1.000000   \n",
       "max     891.000000    1.000000    3.000000   80.000000    8.000000   \n",
       "\n",
       "            Parch        Fare  \n",
       "count  891.000000  891.000000  \n",
       "mean     0.381594   32.204208  \n",
       "std      0.806057   49.693429  \n",
       "min      0.000000    0.000000  \n",
       "25%      0.000000    7.910400  \n",
       "50%      0.000000   14.454200  \n",
       "75%      0.000000   31.000000  \n",
       "max      6.000000  512.329200  "
      ]
     },
     "execution_count": 5,
     "metadata": {},
     "output_type": "execute_result"
    }
   ],
   "source": [
    "df.describe() # statistics info"
   ]
  },
  {
   "cell_type": "raw",
   "id": "68dc3a5f",
   "metadata": {},
   "source": [
    "Parch Age and Fare column 75%  and  max difference are high so outlier are high .\n",
    "Above we can see that 38% out of the training-set survived the Titanic.\n",
    "We can also see that the passenger ages range from 0.4 to 80. On top of that we can already detect some features,\n",
    "that contain missing values, like the ‘Age’ feature."
   ]
  },
  {
   "cell_type": "markdown",
   "id": "ab2d4d34",
   "metadata": {},
   "source": [
    "### Preprocessing the Dataset"
   ]
  },
  {
   "cell_type": "code",
   "execution_count": 6,
   "id": "d328c7b5",
   "metadata": {},
   "outputs": [
    {
     "data": {
      "text/plain": [
       "PassengerId      0\n",
       "Survived         0\n",
       "Pclass           0\n",
       "Name             0\n",
       "Sex              0\n",
       "Age            177\n",
       "SibSp            0\n",
       "Parch            0\n",
       "Ticket           0\n",
       "Fare             0\n",
       "Cabin          687\n",
       "Embarked         2\n",
       "dtype: int64"
      ]
     },
     "execution_count": 6,
     "metadata": {},
     "output_type": "execute_result"
    }
   ],
   "source": [
    "df.isnull().sum() # in Age,Cabin,Embarked having null values, Cabin columns have high null values-687."
   ]
  },
  {
   "cell_type": "code",
   "execution_count": 7,
   "id": "3477dc1b",
   "metadata": {},
   "outputs": [
    {
     "data": {
      "text/plain": [
       "<AxesSubplot:>"
      ]
     },
     "execution_count": 7,
     "metadata": {},
     "output_type": "execute_result"
    },
    {
     "data": {
      "image/png": "[encoded data removed]",
      "text/plain": [
       "<Figure size 432x288 with 2 Axes>"
      ]
     },
     "metadata": {
      "needs_background": "light"
     },
     "output_type": "display_data"
    }
   ],
   "source": [
    "sns.heatmap(df.isnull()) # clearly heatmap shown Age, and Cabin having high null values"
   ]
  },
  {
   "cell_type": "code",
   "execution_count": 8,
   "id": "f25eef91",
   "metadata": {},
   "outputs": [
    {
     "data": {
      "text/plain": [
       "dtype('O')"
      ]
     },
     "execution_count": 8,
     "metadata": {},
     "output_type": "execute_result"
    }
   ],
   "source": [
    "df['Embarked'].dtype"
   ]
  },
  {
   "cell_type": "code",
   "execution_count": 9,
   "id": "596595bf",
   "metadata": {
    "scrolled": true
   },
   "outputs": [],
   "source": [
    "df['Embarked'].fillna(df['Embarked'].mode()[0],inplace=True)"
   ]
  },
  {
   "cell_type": "code",
   "execution_count": 10,
   "id": "77493466",
   "metadata": {},
   "outputs": [],
   "source": [
    "df['Age'].replace(np.NaN,df['Age'].mean(),inplace=True)"
   ]
  },
  {
   "cell_type": "markdown",
   "id": "ad469028",
   "metadata": {},
   "source": [
    "The Embarked Feature has only 2 missing values ,which can be easily be filled.\n",
    "but Age Features wchich has 177 missing values need directly related to target so we can not dropwe need to fill with mean\n",
    "values.\n",
    "much more tricky to deal with Cabin features because since 77% of it are missing.so we need to Drop that Feature\n"
   ]
  },
  {
   "cell_type": "code",
   "execution_count": 11,
   "id": "f91619bf",
   "metadata": {},
   "outputs": [],
   "source": [
    "df.drop('Cabin',axis=1,inplace=True) # Cabin feature having high missing values so need to drop ."
   ]
  },
  {
   "cell_type": "code",
   "execution_count": 12,
   "id": "1d7846bc",
   "metadata": {},
   "outputs": [
    {
     "data": {
      "text/plain": [
       "PassengerId    0\n",
       "Survived       0\n",
       "Pclass         0\n",
       "Name           0\n",
       "Sex            0\n",
       "Age            0\n",
       "SibSp          0\n",
       "Parch          0\n",
       "Ticket         0\n",
       "Fare           0\n",
       "Embarked       0\n",
       "dtype: int64"
      ]
     },
     "execution_count": 12,
     "metadata": {},
     "output_type": "execute_result"
    }
   ],
   "source": [
    "df.isnull().sum() # we fill missing numbers with mean of age and Embarked fratiures and drop Cabin feature"
   ]
  },
  {
   "cell_type": "markdown",
   "id": "1d94aca7",
   "metadata": {},
   "source": [
    "\n",
    "### Exploratory Data analysis(EDA)"
   ]
  },
  {
   "cell_type": "code",
   "execution_count": 13,
   "id": "9845aa11",
   "metadata": {
    "scrolled": false
   },
   "outputs": [
    {
     "data": {
      "text/plain": [
       "PassengerId       AxesSubplot(0.125,0.536818;0.168478x0.343182)\n",
       "Survived       AxesSubplot(0.327174,0.536818;0.168478x0.343182)\n",
       "Pclass         AxesSubplot(0.529348,0.536818;0.168478x0.343182)\n",
       "Age            AxesSubplot(0.731522,0.536818;0.168478x0.343182)\n",
       "SibSp                AxesSubplot(0.125,0.125;0.168478x0.343182)\n",
       "Parch             AxesSubplot(0.327174,0.125;0.168478x0.343182)\n",
       "Fare              AxesSubplot(0.529348,0.125;0.168478x0.343182)\n",
       "dtype: object"
      ]
     },
     "execution_count": 13,
     "metadata": {},
     "output_type": "execute_result"
    },
    {
     "data": {
      "image/png": "[encoded data removed]",
      "text/plain": [
       "<Figure size 1080x432 with 8 Axes>"
      ]
     },
     "metadata": {
      "needs_background": "light"
     },
     "output_type": "display_data"
    }
   ],
   "source": [
    "df.plot(kind='box',subplots=True,layout=(2,4),figsize=(15,6)) #checking Outlier in dataset some of columns present outlier"
   ]
  },
  {
   "cell_type": "code",
   "execution_count": 14,
   "id": "68bb309b",
   "metadata": {},
   "outputs": [
    {
     "data": {
      "text/plain": [
       "array([5.02445171e-01, 7.86845294e-01, 4.88854258e-01, 4.20730236e-01,\n",
       "       4.86337422e-01, 4.78116429e-01, 3.95813561e-01, 2.24083121e-01,\n",
       "       4.24256141e-01, 4.29555021e-02, 3.12172378e-01, 1.13845709e-01,\n",
       "       4.86337422e-01, 1.87093118e-02, 4.90279793e-01, 3.26266659e-01,\n",
       "       6.19988892e-02, 3.86670720e-01, 2.85997284e-01, 5.02948539e-01,\n",
       "       1.24919787e-01, 3.86670720e-01, 4.86756223e-01, 6.63597416e-02,\n",
       "       2.24083121e-01, 1.64441595e-02, 5.02948539e-01, 4.64700108e+00,\n",
       "       4.89776426e-01, 4.89442190e-01, 9.02720170e-02, 2.30172882e+00,\n",
       "       4.92377828e-01, 4.37007438e-01, 1.00606170e+00, 3.98582080e-01,\n",
       "       5.02863973e-01, 4.86337422e-01, 2.85997284e-01, 4.22073541e-01,\n",
       "       4.57645492e-01, 2.25593223e-01, 4.89442190e-01, 1.88762532e-01,\n",
       "       4.89776426e-01, 4.86337422e-01, 3.36334002e-01, 4.92377828e-01,\n",
       "       2.11917743e-01, 2.90024222e-01, 1.50673744e-01, 4.91371093e-01,\n",
       "       8.96496787e-01, 1.24919787e-01, 5.99510151e-01, 6.63597416e-02,\n",
       "       4.37007438e-01, 5.02863973e-01, 8.96840841e-02, 2.95895176e-01,\n",
       "       5.02863973e-01, 9.62353321e-01, 1.03232136e+00, 8.66638810e-02,\n",
       "       9.02720170e-02, 3.41452240e-01, 4.37007438e-01, 4.84156835e-01,\n",
       "       4.88854258e-01, 4.74004926e-01, 4.37007438e-01, 2.95895176e-01,\n",
       "       8.31477855e-01, 3.57390858e-01, 4.89103607e-01, 4.94391297e-01,\n",
       "       4.89442190e-01, 4.86337422e-01, 6.45157251e-02, 3.97241431e-01,\n",
       "       4.67209469e-01, 4.57142125e-01, 4.91622777e-01, 2.99922113e-01,\n",
       "       4.37007438e-01, 3.29286862e-01, 4.37082185e-02, 4.86337422e-01,\n",
       "       4.64700108e+00, 4.86337422e-01, 4.86337422e-01, 4.90279793e-01,\n",
       "       5.83317835e-01, 2.34150465e-01, 5.02445171e-01, 4.86337422e-01,\n",
       "       4.93298232e-02, 6.27277898e-01, 1.85323848e-01, 1.24919787e-01,\n",
       "       4.89442190e-01, 4.89442190e-01, 9.07737982e-01, 4.74172044e-01,\n",
       "       4.88854258e-01, 4.89442190e-01, 4.94391297e-01, 4.91874461e-01,\n",
       "       4.89442190e-01, 1.62168958e-01, 3.98582080e-01, 3.57390858e-01,\n",
       "       4.86337422e-01, 4.50598352e-01, 3.57308306e-01, 4.88854258e-01,\n",
       "       4.92377828e-01, 2.25593223e-01, 4.33533223e+00, 1.87093118e-02,\n",
       "       8.31477855e-01, 4.86337422e-01, 4.29555021e-02, 3.86670720e-01,\n",
       "       9.07737982e-01, 4.22073541e-01, 4.92377828e-01, 5.04625758e-01,\n",
       "       1.98244277e-01, 5.07982210e-01, 4.89442190e-01, 5.06472109e-01,\n",
       "       3.56468689e-01, 1.24919787e-01, 3.86670720e-01, 3.45479177e-01,\n",
       "       1.19215630e-01, 4.20730236e-01, 4.62846282e-01, 9.46245572e-01,\n",
       "       3.41452240e-01, 4.92377828e-01, 3.29286862e-01, 5.12512515e-01,\n",
       "       4.16872751e-01, 9.15281006e-02, 4.91455659e-01, 4.37082185e-02,\n",
       "       1.24919787e-01, 3.86670720e-01, 3.96234697e-01, 6.92548513e-01,\n",
       "       4.86337422e-01, 3.56468689e-01, 5.01186753e-01, 5.87429338e-01,\n",
       "       4.92714077e-01, 4.86337422e-01, 4.74004926e-01, 7.51945840e-01,\n",
       "       3.24253190e-01, 3.31300330e-01, 4.91874461e-01, 4.74004926e-01,\n",
       "       1.50673744e-01, 2.35157199e-01, 4.58986142e-01, 8.66638810e-02,\n",
       "       1.26429888e-01, 4.89103607e-01, 2.60903672e-02, 6.19988892e-02,\n",
       "       4.24256141e-01, 4.88854258e-01, 3.03713226e-02, 4.90279793e-01,\n",
       "       1.35657615e-01, 7.03044477e-02, 3.86670720e-01, 6.48421654e-01,\n",
       "       7.51945840e-01, 3.45394611e-01, 1.64441595e-02, 1.36831147e-01,\n",
       "       2.04955168e-01, 3.58312706e-01, 3.36334002e-01, 1.13845709e-01,\n",
       "       3.36334002e-01, 4.89442190e-01, 3.86670720e-01, 3.86670720e-01,\n",
       "       4.90279793e-01, 1.24919787e-01, 9.02720170e-02, 2.30172882e+00,\n",
       "       4.92377828e-01, 4.79205715e-01, 4.92377828e-01, 3.86670720e-01,\n",
       "       4.57142125e-01, 7.51945840e-01, 5.17630753e-01, 5.02948539e-01,\n",
       "       4.86337422e-01, 4.37762489e-01, 3.29286862e-01, 2.70141218e-01,\n",
       "       4.92377828e-01, 2.42463508e-02, 5.06472109e-01, 2.25593223e-01,\n",
       "       5.02445171e-01, 3.86670720e-01, 4.92377828e-01, 1.63233504e+00,\n",
       "       4.88854258e-01, 1.04785100e-01, 8.87687861e-01, 4.37007438e-01,\n",
       "       4.86337422e-01, 3.86670720e-01, 4.86337422e-01, 4.89442190e-01,\n",
       "       1.16370019e+00, 4.60162328e-01, 4.37007438e-01, 5.02445171e-01,\n",
       "       3.86670720e-01, 1.35657615e-01, 1.03232136e+00, 4.91874461e-01,\n",
       "       3.76603377e-01, 1.64441595e-02, 4.37007438e-01, 4.96404765e-01,\n",
       "       1.24919787e-01, 1.19886115e-01, 4.37007438e-01, 4.01268368e-01,\n",
       "       3.57390858e-01, 3.36334002e-01, 4.37007438e-01, 5.04962007e-01,\n",
       "       5.02948539e-01, 1.16370019e+00, 4.91874461e-01, 3.56468689e-01,\n",
       "       4.09740724e-01, 1.24919787e-01, 5.02445171e-01, 4.37762489e-01,\n",
       "       1.13845709e-01, 3.24253190e-01, 2.41449289e-01, 3.41452240e-01,\n",
       "       9.46245572e-01, 1.09322879e+00, 9.66716653e+00, 1.24919787e-01,\n",
       "       4.92377828e-01, 1.64441595e-02, 9.55306181e-01, 6.48421654e-01,\n",
       "       4.92377828e-01, 4.37007438e-01, 1.50673744e-01, 4.91874461e-01,\n",
       "       2.44149778e+00, 2.08251241e+00, 2.42463508e-02, 6.48421654e-01,\n",
       "       2.55795253e-01, 5.04214441e-02, 4.92377828e-01, 9.21244331e-01,\n",
       "       4.92377828e-01, 6.48421654e-01, 6.19988892e-02, 2.40694238e-01,\n",
       "       4.92377828e-01, 4.90279793e-01, 4.57142125e-01, 4.86337422e-01,\n",
       "       1.24919787e-01, 4.74004926e-01, 4.57142125e-01, 4.89442190e-01,\n",
       "       3.86670720e-01, 4.92377828e-01, 9.39198431e-01, 1.18542955e+00,\n",
       "       3.89187556e-01, 4.70229672e-01, 4.89442190e-01, 9.02720170e-02,\n",
       "       5.02863973e-01, 2.40299019e+00, 3.43136943e-02, 4.33533223e+00,\n",
       "       4.92377828e-01, 1.80290176e-01, 6.48421654e-01, 3.99758267e-01,\n",
       "       4.86337422e-01, 2.40299019e+00, 1.58417891e+00, 1.54424578e+00,\n",
       "       1.65189161e-01, 4.97829980e-01, 1.02594470e+00, 4.63441690e+00,\n",
       "       1.24919787e-01, 4.89442190e-01, 1.19886115e-01, 4.90279793e-01,\n",
       "       1.24919787e-01, 3.66536033e-01, 2.67111778e+00, 2.05969377e+00,\n",
       "       5.02445171e-01, 4.89442190e-01, 3.99758267e-01, 6.45157251e-02,\n",
       "       7.51945840e-01, 2.08251241e+00, 5.22831542e-01, 3.86670720e-01,\n",
       "       2.35157199e-01, 5.18971402e-01, 1.80290176e-01, 7.45830687e-02,\n",
       "       2.44149778e+00, 2.85997284e-01, 2.04257929e+00, 4.89442190e-01,\n",
       "       6.92548513e-01, 2.05969377e+00, 4.86337422e-01, 6.63597416e-02,\n",
       "       1.24919787e-01, 4.64700108e+00, 3.86670720e-01, 3.86670720e-01,\n",
       "       3.86670720e-01, 3.86670720e-01, 3.86670720e-01, 3.24253190e-01,\n",
       "       3.28280127e-01, 4.74004926e-01, 4.62679164e-01, 5.62923980e-02,\n",
       "       5.02863973e-01, 2.90024222e-01, 5.02948539e-01, 4.57142125e-01,\n",
       "       4.58986142e-01, 3.86670720e-01, 4.89776426e-01, 4.89776426e-01,\n",
       "       8.66638810e-02, 9.02720170e-02, 3.57390858e-01, 5.06472109e-01,\n",
       "       3.36334002e-01, 5.02445171e-01, 8.66713557e-01, 5.02863973e-01,\n",
       "       4.92377828e-01, 7.46912168e-01, 4.67879633e-01, 5.17630753e-01,\n",
       "       4.86337422e-01, 2.08251241e+00, 2.24083121e-01, 1.00606170e+00,\n",
       "       5.02445171e-01, 3.61006469e+00, 5.67631221e-01, 4.91874461e-01,\n",
       "       3.93272305e+00, 3.31467448e-01, 4.88854258e-01, 3.98582080e-01,\n",
       "       4.89442190e-01, 8.31477855e-01, 2.95895176e-01, 3.86670720e-01,\n",
       "       4.92796629e-01, 4.06805407e-01, 1.76774081e+00, 4.91455659e-01,\n",
       "       4.88854258e-01, 1.63233504e+00, 3.12172378e-01, 4.91455659e-01,\n",
       "       4.90279793e-01, 1.24919787e-01, 4.37007438e-01, 3.93717861e-01,\n",
       "       4.88854258e-01, 4.86337422e-01, 4.50598352e-01, 3.29286862e-01,\n",
       "       4.74004926e-01, 2.25593223e-01, 4.92377828e-01, 2.70896269e-01,\n",
       "       4.91874461e-01, 1.35657615e-01, 4.89442190e-01, 5.10331928e-01,\n",
       "       1.16370019e+00, 6.48421654e-01, 4.88854258e-01, 4.86337422e-01,\n",
       "       5.95568003e-03, 3.86670720e-01, 3.86670720e-01, 1.62168958e-01,\n",
       "       4.89442190e-01, 4.92714077e-01, 4.89860992e-01, 3.58482158e-01,\n",
       "       2.41449289e-01, 5.02445171e-01, 1.24919787e-01, 1.24919787e-01,\n",
       "       4.92377828e-01, 4.86337422e-01, 1.13845709e-01, 3.24253190e-01,\n",
       "       1.24919787e-01, 5.04962007e-01, 4.77107360e-01, 1.76774081e+00,\n",
       "       4.37082185e-02, 2.70896269e-01, 4.64700108e+00, 4.37007438e-01,\n",
       "       1.19886115e-01, 4.57142125e-01, 4.91874461e-01, 3.86670720e-01,\n",
       "       4.85079004e-01, 9.99769611e-01, 2.55795253e-01, 1.13845709e-01,\n",
       "       2.60661807e-01, 3.43136943e-02, 8.96840841e-02, 2.46398395e-01,\n",
       "       8.96840841e-02, 1.14566354e+00, 4.86337422e-01, 4.89442190e-01,\n",
       "       1.13845709e-01, 3.95813561e-01, 4.37007438e-01, 4.92377828e-01,\n",
       "       1.13845709e-01, 4.86337422e-01, 1.26763803e-01, 3.86670720e-01,\n",
       "       4.86337422e-01, 5.06472109e-01, 6.48421654e-01, 1.13845709e-01,\n",
       "       4.92881195e-01, 2.60661807e-01, 5.02445171e-01, 4.74004926e-01,\n",
       "       8.96840841e-02, 3.70730088e-01, 4.50346668e-01, 3.98582080e-01,\n",
       "       2.25593223e-01, 5.06556675e-01, 4.96992698e-01, 4.01016685e-01,\n",
       "       2.95895176e-01, 6.48421654e-01, 4.86337422e-01, 4.55380340e-01,\n",
       "       1.18542955e+00, 1.35657615e-01, 1.16370019e+00, 5.04214441e-02,\n",
       "       4.86337422e-01, 3.28280127e-01, 2.46398395e-01, 5.02445171e-01,\n",
       "       3.43136943e-02, 3.48329928e-01, 4.86337422e-01, 3.57308306e-01,\n",
       "       9.27453868e-01, 3.44387877e-01, 2.40299019e+00, 4.91455659e-01,\n",
       "       4.74004926e-01, 4.92377828e-01, 4.94810098e-01, 4.55380340e-01,\n",
       "       1.09322879e+00, 1.54424578e+00, 1.24919787e-01, 1.13845709e-01,\n",
       "       1.94887825e-01, 4.89103607e-01, 4.92377828e-01, 4.86337422e-01,\n",
       "       1.19131064e-01, 5.47578765e-01, 4.97496065e-01, 3.65765123e-02,\n",
       "       4.37007438e-01, 1.62168958e-01, 1.24919787e-01, 4.89442190e-01,\n",
       "       1.23417160e+00, 4.89442190e-01, 5.02948539e-01, 5.18971402e-01,\n",
       "       5.02863973e-01, 4.92377828e-01, 4.37007438e-01, 3.81703316e+00,\n",
       "       4.88854258e-01, 4.16872751e-01, 1.24919787e-01, 5.02863973e-01,\n",
       "       5.02863973e-01, 1.98244277e-01, 4.74004926e-01, 1.19886115e-01,\n",
       "       1.13845709e-01, 1.49441243e+00, 3.56468689e-01, 3.48245362e-01,\n",
       "       7.81141137e-01, 1.87093118e-02, 1.87093118e-02, 1.24919787e-01,\n",
       "       1.49441243e+00, 1.24919787e-01, 1.24919787e-01, 3.69304552e-01,\n",
       "       2.35157199e-01, 9.15281006e-02, 1.58417891e+00, 1.24919787e-01,\n",
       "       4.90783161e-01, 5.02948539e-01, 4.91874461e-01, 1.13845709e-01,\n",
       "       1.48911959e-01, 3.93272305e+00, 9.55306181e-01, 2.98078096e-01,\n",
       "       4.92377828e-01, 4.89442190e-01, 3.76603377e-01, 4.86337422e-01,\n",
       "       4.86337422e-01, 1.62168958e-01, 4.89442190e-01, 2.24083121e-01,\n",
       "       5.02863973e-01, 4.90279793e-01, 4.37007438e-01, 3.88095935e-01,\n",
       "       1.17117595e-01, 4.92377828e-01, 4.86337422e-01, 3.56468689e-01,\n",
       "       3.86670720e-01, 4.77107360e-01, 3.57308306e-01, 4.88854258e-01,\n",
       "       4.43810379e-02, 1.58417891e+00, 1.24919787e-01, 1.59482670e-01,\n",
       "       4.72998191e-01, 9.55306181e-01, 3.46401346e-01, 9.46245572e-01,\n",
       "       4.86337422e-01, 4.86337422e-01, 5.04962007e-01, 9.27453868e-01,\n",
       "       5.02445171e-01, 4.92377828e-01, 1.24919787e-01, 1.62168958e-01,\n",
       "       1.60230236e-02, 6.48421654e-01, 5.02948539e-01, 4.97829980e-01,\n",
       "       1.04785100e-01, 4.89442190e-01, 2.05289083e-01, 4.86337422e-01,\n",
       "       1.13845709e-01, 3.35327268e-01, 4.89442190e-01, 3.43136943e-02,\n",
       "       1.88762532e-01, 2.44149778e+00, 1.87093118e-02, 5.06472109e-01,\n",
       "       3.36334002e-01, 4.92377828e-01, 4.86337422e-01, 6.60333014e-01,\n",
       "       3.58482158e-01, 3.24253190e-01, 1.36831147e-01, 4.37007438e-01,\n",
       "       3.57390858e-01, 4.09740724e-01, 3.31467448e-01, 4.90279793e-01,\n",
       "       3.24253190e-01, 2.34754408e-03, 3.99758267e-01, 9.21244331e-01,\n",
       "       4.89442190e-01, 4.92714077e-01, 4.43810379e-02, 5.06387543e-01,\n",
       "       3.43136943e-02, 6.48421654e-01, 8.66638810e-02, 3.86670720e-01,\n",
       "       4.88854258e-01, 1.19886115e-01, 1.50673744e-01, 3.24253190e-01,\n",
       "       4.90279793e-01, 7.46912168e-01, 8.66638810e-02, 4.89103607e-01,\n",
       "       2.60661807e-01, 8.96496787e-01, 4.89442190e-01, 6.63597416e-02,\n",
       "       4.96404765e-01, 4.96404765e-01, 4.89442190e-01, 1.85323848e-01,\n",
       "       4.78619796e-01, 4.90783161e-01, 5.12512515e-01, 8.31477855e-01,\n",
       "       4.89442190e-01, 3.36334002e-01, 3.86670720e-01, 1.63233504e+00,\n",
       "       2.04257929e+00, 5.02948539e-01, 1.33225345e-01, 4.97496065e-01,\n",
       "       4.88854258e-01, 8.31477855e-01, 3.86670720e-01, 4.91874461e-01,\n",
       "       4.86337422e-01, 3.98582080e-01, 1.36831147e-01, 3.98582080e-01,\n",
       "       4.37007438e-01, 3.86670720e-01, 6.48421654e-01, 4.91874461e-01,\n",
       "       4.86337422e-01, 4.50262103e-01, 2.95895176e-01, 9.66716653e+00,\n",
       "       4.84575637e-01, 8.96496787e-01, 4.62679164e-01, 2.95895176e-01,\n",
       "       1.36831147e-01, 1.88762532e-01, 1.50673744e-01, 4.43635777e-01,\n",
       "       4.91455659e-01, 3.60679280e+00, 4.99255516e-01, 3.78280596e-01,\n",
       "       4.89103607e-01, 5.02948539e-01, 1.13845709e-01, 3.76603377e-01,\n",
       "       4.86337422e-01, 4.92714077e-01, 1.58417891e+00, 4.94391297e-01,\n",
       "       3.93272305e+00, 1.19131064e-01, 3.57390858e-01, 4.92544946e-01,\n",
       "       4.90279793e-01, 1.24919787e-01, 3.76603377e-01, 1.19131064e-01,\n",
       "       2.40299019e+00, 3.41452240e-01, 3.48329928e-01, 1.13845709e-01,\n",
       "       3.98582080e-01, 4.57478375e-01, 3.86670720e-01, 4.94391297e-01,\n",
       "       3.93272305e+00, 4.37007438e-01, 3.36334002e-01, 4.91874461e-01,\n",
       "       1.60230236e-02, 5.06387543e-01, 3.86670720e-01, 3.86670720e-01,\n",
       "       4.20730236e-01, 4.74004926e-01, 2.25593223e-01, 4.92629511e-01,\n",
       "       1.24919787e-01, 4.88854258e-01, 3.60679280e+00, 2.70141218e-01,\n",
       "       6.48421654e-01, 3.86670720e-01, 3.86670720e-01, 3.24253190e-01,\n",
       "       4.37082185e-02, 9.66716653e+00, 4.89442190e-01, 4.89442190e-01,\n",
       "       4.43810379e-02, 9.39198431e-01, 4.63441690e+00, 3.24253190e-01,\n",
       "       4.88854258e-01, 7.81141137e-01, 2.40694238e-01, 3.86670720e-01,\n",
       "       4.20730236e-01, 4.92377828e-01, 1.85323848e-01, 3.97241431e-01,\n",
       "       4.57142125e-01, 4.89442190e-01, 6.60333014e-01, 3.56468689e-01,\n",
       "       4.91455659e-01, 4.16872751e-01, 4.86337422e-01, 1.09322879e+00,\n",
       "       3.56468689e-01, 5.04962007e-01, 5.02863973e-01, 1.76774081e+00,\n",
       "       4.91874461e-01, 9.21244331e-01, 1.48911959e-01, 4.92377828e-01,\n",
       "       1.62168958e-01, 4.80045332e-01, 4.57142125e-01, 4.90279793e-01,\n",
       "       4.37007438e-01, 5.02948539e-01, 1.85323848e-01, 4.92377828e-01,\n",
       "       4.92377828e-01, 3.97241431e-01, 4.92629511e-01, 3.60679280e+00,\n",
       "       5.02863973e-01, 4.99255516e-01, 4.43810379e-02, 1.76263239e-01,\n",
       "       5.06472109e-01, 5.02445171e-01, 4.97496065e-01, 6.19988892e-02,\n",
       "       2.34150465e-01, 9.46245572e-01, 4.92377828e-01, 1.24919787e-01,\n",
       "       7.51945840e-01, 3.03713226e-02, 4.89442190e-01, 3.86670720e-01,\n",
       "       1.26345323e-01, 4.73586124e-01, 5.02863973e-01, 1.62168958e-01,\n",
       "       3.86670720e-01, 1.19886115e-01, 1.76774081e+00, 4.76940563e-01,\n",
       "       5.07982210e-01, 4.91874461e-01, 6.48421654e-01, 4.91874461e-01,\n",
       "       3.86670720e-01, 4.20730236e-01, 4.89609308e-01, 1.62168958e-01,\n",
       "       4.37007438e-01, 1.87093118e-02, 4.86337422e-01, 6.48421654e-01,\n",
       "       4.88854258e-01, 9.66463381e-02, 5.18552921e-01, 8.66638810e-02,\n",
       "       1.23417160e+00, 4.74004926e-01, 6.48421654e-01, 3.97241431e-01,\n",
       "       1.50673744e-01, 5.08485578e-01, 4.89103607e-01, 9.66463381e-02,\n",
       "       4.92377828e-01, 9.62353321e-01, 3.57390858e-01, 2.70896269e-01,\n",
       "       5.02863973e-01, 4.90279793e-01, 4.81303750e-01, 1.02594470e+00,\n",
       "       4.74004926e-01, 4.86337422e-01, 4.89103607e-01, 5.04214441e-02,\n",
       "       4.88854258e-01, 4.37007438e-01, 2.42463508e-02, 5.18804605e-01,\n",
       "       4.74004926e-01, 4.96404765e-01, 7.51945840e-01, 4.89442190e-01,\n",
       "       1.60230236e-02, 1.14566354e+00, 1.87093118e-02, 4.91874461e-01,\n",
       "       3.41452240e-01, 1.44885022e-01, 1.24919787e-01, 4.60162328e-01,\n",
       "       2.67111778e+00, 1.13845709e-01, 2.60661807e-01, 5.02863973e-01,\n",
       "       3.64355446e-01, 4.16872751e-01, 1.26345323e-01, 7.51945840e-01,\n",
       "       3.86670720e-01, 3.86670720e-01, 3.69389118e-01, 3.68295484e-01,\n",
       "       4.57142125e-01, 4.24256141e-01, 4.89442190e-01, 4.09740724e-01,\n",
       "       5.47748218e-01, 4.67209469e-01, 1.65189161e-01, 5.02948539e-01,\n",
       "       4.50179550e-01, 4.89442190e-01, 4.89442190e-01, 1.02594470e+00,\n",
       "       1.24919787e-01, 4.89442190e-01, 4.36671189e-01, 4.37007438e-01,\n",
       "       5.06472109e-01, 6.19988892e-02, 3.86670720e-01, 4.43810379e-02,\n",
       "       1.76263239e-01, 4.43810379e-02, 4.92377828e-01])"
      ]
     },
     "execution_count": 14,
     "metadata": {},
     "output_type": "execute_result"
    }
   ],
   "source": [
    "#Removing OUtlier\n",
    "from scipy.stats import zscore\n",
    "z=np.abs(zscore(df['Fare']))\n",
    "z"
   ]
  },
  {
   "cell_type": "code",
   "execution_count": 15,
   "id": "486da1de",
   "metadata": {},
   "outputs": [
    {
     "data": {
      "text/plain": [
       "array([0.47367361, 0.47367361, 0.47367361, 0.47367361, 0.47367361,\n",
       "       0.47367361, 0.47367361, 0.76762988, 2.00893337, 0.47367361,\n",
       "       0.76762988, 0.47367361, 0.47367361, 5.73284383, 0.47367361,\n",
       "       0.47367361, 0.76762988, 0.47367361, 0.47367361, 0.47367361,\n",
       "       0.47367361, 0.47367361, 0.47367361, 0.47367361, 0.76762988,\n",
       "       5.73284383, 0.47367361, 2.00893337, 0.47367361, 0.47367361,\n",
       "       0.47367361, 0.47367361, 0.47367361, 0.47367361, 0.47367361,\n",
       "       0.47367361, 0.47367361, 0.47367361, 0.47367361, 0.47367361,\n",
       "       0.47367361, 0.47367361, 0.47367361, 2.00893337, 0.47367361,\n",
       "       0.47367361, 0.47367361, 0.47367361, 0.47367361, 0.47367361,\n",
       "       0.76762988, 0.47367361, 0.47367361, 0.47367361, 0.76762988,\n",
       "       0.47367361, 0.47367361, 0.47367361, 2.00893337, 2.00893337,\n",
       "       0.47367361, 0.47367361, 0.47367361, 2.00893337, 0.47367361,\n",
       "       0.76762988, 0.47367361, 0.47367361, 2.00893337, 0.47367361,\n",
       "       0.47367361, 2.00893337, 0.47367361, 0.47367361, 0.47367361,\n",
       "       0.47367361, 0.47367361, 0.47367361, 2.00893337, 0.47367361,\n",
       "       0.47367361, 0.47367361, 0.47367361, 0.47367361, 0.47367361,\n",
       "       0.47367361, 3.25023685, 0.47367361, 2.00893337, 0.47367361,\n",
       "       0.47367361, 0.47367361, 0.47367361, 2.00893337, 0.47367361,\n",
       "       0.47367361, 0.47367361, 0.76762988, 0.76762988, 0.47367361,\n",
       "       0.47367361, 0.47367361, 0.76762988, 0.47367361, 0.47367361,\n",
       "       0.47367361, 0.47367361, 0.47367361, 0.47367361, 0.47367361,\n",
       "       0.47367361, 0.47367361, 0.47367361, 0.47367361, 0.47367361,\n",
       "       0.47367361, 0.47367361, 0.47367361, 0.76762988, 2.00893337,\n",
       "       0.47367361, 0.47367361, 0.47367361, 0.47367361, 0.76762988,\n",
       "       0.47367361, 0.47367361, 0.47367361, 0.76762988, 0.47367361,\n",
       "       0.47367361, 0.47367361, 0.47367361, 0.47367361, 0.47367361,\n",
       "       0.47367361, 2.00893337, 0.47367361, 0.47367361, 0.47367361,\n",
       "       2.00893337, 0.47367361, 0.47367361, 0.47367361, 0.47367361,\n",
       "       0.76762988, 0.47367361, 2.00893337, 2.00893337, 0.47367361,\n",
       "       0.47367361, 0.47367361, 0.47367361, 2.00893337, 0.47367361,\n",
       "       0.76762988, 0.47367361, 0.47367361, 0.47367361, 2.00893337,\n",
       "       0.76762988, 0.47367361, 0.47367361, 0.47367361, 0.76762988,\n",
       "       2.00893337, 0.76762988, 4.49154034, 0.47367361, 0.47367361,\n",
       "       0.47367361, 0.76762988, 0.76762988, 0.47367361, 0.47367361,\n",
       "       0.76762988, 0.76762988, 0.47367361, 0.47367361, 0.47367361,\n",
       "       2.00893337, 0.47367361, 2.00893337, 0.76762988, 2.00893337,\n",
       "       0.47367361, 0.47367361, 0.47367361, 0.76762988, 0.47367361,\n",
       "       0.47367361, 0.47367361, 0.47367361, 0.76762988, 0.47367361,\n",
       "       0.47367361, 0.47367361, 0.76762988, 0.47367361, 0.47367361,\n",
       "       0.47367361, 2.00893337, 0.47367361, 0.47367361, 0.47367361,\n",
       "       0.76762988, 0.47367361, 0.47367361, 0.47367361, 0.47367361,\n",
       "       0.47367361, 0.47367361, 0.47367361, 0.47367361, 0.47367361,\n",
       "       0.47367361, 0.47367361, 0.47367361, 0.47367361, 0.47367361,\n",
       "       0.47367361, 0.47367361, 0.47367361, 0.47367361, 0.47367361,\n",
       "       0.47367361, 0.47367361, 0.47367361, 0.47367361, 0.76762988,\n",
       "       0.47367361, 0.47367361, 0.47367361, 2.00893337, 0.47367361,\n",
       "       0.47367361, 0.47367361, 2.00893337, 0.47367361, 0.47367361,\n",
       "       0.47367361, 0.47367361, 0.47367361, 0.47367361, 0.47367361,\n",
       "       0.47367361, 0.47367361, 2.00893337, 0.76762988, 0.47367361,\n",
       "       0.47367361, 0.76762988, 0.47367361, 0.47367361, 2.00893337,\n",
       "       2.00893337, 0.47367361, 0.47367361, 0.47367361, 0.76762988,\n",
       "       0.47367361, 2.00893337, 0.76762988, 0.47367361, 0.47367361,\n",
       "       0.47367361, 0.76762988, 0.47367361, 0.76762988, 0.47367361,\n",
       "       0.47367361, 0.47367361, 0.76762988, 0.76762988, 0.47367361,\n",
       "       0.47367361, 0.47367361, 0.47367361, 0.76762988, 0.76762988,\n",
       "       0.47367361, 0.47367361, 0.47367361, 0.47367361, 0.47367361,\n",
       "       0.47367361, 0.47367361, 0.47367361, 0.47367361, 0.47367361,\n",
       "       0.47367361, 0.47367361, 0.47367361, 0.47367361, 0.47367361,\n",
       "       0.47367361, 0.47367361, 2.00893337, 0.47367361, 0.76762988,\n",
       "       0.47367361, 0.47367361, 0.47367361, 0.47367361, 0.47367361,\n",
       "       2.00893337, 0.47367361, 0.47367361, 0.47367361, 0.47367361,\n",
       "       0.47367361, 2.00893337, 0.76762988, 0.47367361, 0.76762988,\n",
       "       0.47367361, 0.47367361, 0.47367361, 2.00893337, 0.76762988,\n",
       "       0.47367361, 0.47367361, 0.47367361, 0.76762988, 2.00893337,\n",
       "       0.47367361, 0.47367361, 0.47367361, 0.76762988, 0.76762988,\n",
       "       0.47367361, 0.47367361, 0.76762988, 0.47367361, 0.47367361,\n",
       "       0.47367361, 0.47367361, 0.47367361, 0.47367361, 0.47367361,\n",
       "       0.76762988, 2.00893337, 0.47367361, 0.47367361, 0.47367361,\n",
       "       0.47367361, 0.47367361, 0.47367361, 0.76762988, 0.47367361,\n",
       "       0.47367361, 0.47367361, 0.76762988, 0.47367361, 0.47367361,\n",
       "       0.47367361, 0.76762988, 0.47367361, 0.47367361, 0.47367361,\n",
       "       4.49154034, 0.47367361, 0.76762988, 0.47367361, 0.47367361,\n",
       "       0.47367361, 0.47367361, 0.47367361, 0.47367361, 0.47367361,\n",
       "       0.47367361, 0.47367361, 0.47367361, 0.47367361, 0.76762988,\n",
       "       0.47367361, 0.47367361, 2.00893337, 0.47367361, 0.47367361,\n",
       "       0.47367361, 2.00893337, 0.47367361, 0.47367361, 0.47367361,\n",
       "       0.47367361, 2.00893337, 0.47367361, 0.47367361, 0.47367361,\n",
       "       2.00893337, 0.47367361, 0.47367361, 0.47367361, 2.00893337,\n",
       "       0.47367361, 0.47367361, 0.47367361, 0.47367361, 0.47367361,\n",
       "       0.47367361, 0.47367361, 0.47367361, 0.47367361, 0.47367361,\n",
       "       0.47367361, 0.47367361, 0.76762988, 0.47367361, 0.76762988,\n",
       "       0.47367361, 0.47367361, 0.47367361, 0.47367361, 0.47367361,\n",
       "       0.47367361, 0.76762988, 2.00893337, 0.47367361, 2.00893337,\n",
       "       0.47367361, 0.47367361, 0.47367361, 0.76762988, 0.76762988,\n",
       "       0.47367361, 0.47367361, 0.47367361, 0.47367361, 0.47367361,\n",
       "       0.47367361, 0.47367361, 0.47367361, 0.47367361, 0.47367361,\n",
       "       2.00893337, 2.00893337, 3.25023685, 4.49154034, 0.47367361,\n",
       "       0.76762988, 0.47367361, 0.47367361, 0.47367361, 0.47367361,\n",
       "       2.00893337, 0.76762988, 0.47367361, 0.76762988, 0.47367361,\n",
       "       2.00893337, 0.47367361, 0.47367361, 0.47367361, 0.47367361,\n",
       "       0.47367361, 0.47367361, 0.47367361, 0.47367361, 0.47367361,\n",
       "       0.47367361, 0.47367361, 0.47367361, 0.47367361, 0.47367361,\n",
       "       0.47367361, 0.47367361, 0.47367361, 0.47367361, 0.76762988,\n",
       "       0.47367361, 0.47367361, 2.00893337, 0.47367361, 0.47367361,\n",
       "       0.47367361, 0.47367361, 0.47367361, 0.47367361, 0.76762988,\n",
       "       2.00893337, 0.47367361, 0.47367361, 0.47367361, 0.47367361,\n",
       "       0.76762988, 0.47367361, 0.47367361, 0.47367361, 0.76762988,\n",
       "       0.47367361, 0.47367361, 0.47367361, 0.47367361, 0.47367361,\n",
       "       0.47367361, 0.47367361, 0.47367361, 2.00893337, 0.47367361,\n",
       "       0.47367361, 0.47367361, 0.47367361, 0.47367361, 0.47367361,\n",
       "       0.47367361, 2.00893337, 0.47367361, 0.47367361, 0.47367361,\n",
       "       0.47367361, 0.47367361, 0.47367361, 0.47367361, 0.47367361,\n",
       "       0.47367361, 0.47367361, 0.47367361, 0.47367361, 0.47367361,\n",
       "       0.47367361, 0.47367361, 0.47367361, 0.76762988, 0.47367361,\n",
       "       0.47367361, 0.47367361, 0.47367361, 0.47367361, 0.76762988,\n",
       "       0.76762988, 0.47367361, 0.76762988, 2.00893337, 0.47367361,\n",
       "       2.00893337, 0.47367361, 0.47367361, 0.47367361, 2.00893337,\n",
       "       2.00893337, 2.00893337, 2.00893337, 0.47367361, 0.47367361,\n",
       "       0.47367361, 0.47367361, 0.47367361, 0.76762988, 0.76762988,\n",
       "       2.00893337, 0.47367361, 0.47367361, 0.47367361, 0.47367361,\n",
       "       0.47367361, 0.47367361, 0.47367361, 0.76762988, 0.47367361,\n",
       "       0.47367361, 0.47367361, 0.47367361, 0.47367361, 0.47367361,\n",
       "       0.47367361, 0.47367361, 4.49154034, 0.47367361, 0.47367361,\n",
       "       0.47367361, 0.47367361, 0.47367361, 0.47367361, 0.47367361,\n",
       "       0.47367361, 0.47367361, 0.47367361, 0.47367361, 0.47367361,\n",
       "       0.76762988, 0.76762988, 0.47367361, 0.47367361, 0.47367361,\n",
       "       2.00893337, 0.47367361, 0.76762988, 0.47367361, 0.47367361,\n",
       "       0.47367361, 0.47367361, 0.47367361, 2.00893337, 0.47367361,\n",
       "       0.76762988, 0.47367361, 0.47367361, 0.47367361, 0.47367361,\n",
       "       0.76762988, 0.47367361, 0.47367361, 0.47367361, 0.47367361,\n",
       "       0.47367361, 0.47367361, 0.47367361, 2.00893337, 0.47367361,\n",
       "       5.73284383, 0.47367361, 0.47367361, 0.47367361, 0.47367361,\n",
       "       2.00893337, 0.76762988, 0.47367361, 0.76762988, 0.47367361,\n",
       "       0.47367361, 0.47367361, 0.76762988, 0.47367361, 0.47367361,\n",
       "       0.47367361, 0.47367361, 0.47367361, 0.47367361, 0.47367361,\n",
       "       0.47367361, 0.47367361, 0.47367361, 0.47367361, 2.00893337,\n",
       "       0.47367361, 0.47367361, 0.76762988, 5.73284383, 0.47367361,\n",
       "       0.47367361, 0.47367361, 2.00893337, 0.47367361, 0.76762988,\n",
       "       0.47367361, 0.47367361, 0.47367361, 0.47367361, 0.47367361,\n",
       "       0.47367361, 0.76762988, 0.47367361, 0.47367361, 0.47367361,\n",
       "       0.47367361, 0.47367361, 0.76762988, 0.47367361, 2.00893337,\n",
       "       0.47367361, 0.47367361, 0.47367361, 0.47367361, 0.47367361,\n",
       "       0.47367361, 0.47367361, 0.47367361, 0.47367361, 0.47367361,\n",
       "       0.76762988, 0.47367361, 0.47367361, 0.47367361, 0.47367361,\n",
       "       0.47367361, 0.47367361, 0.47367361, 6.97414732, 0.76762988,\n",
       "       0.47367361, 0.47367361, 0.47367361, 2.00893337, 0.76762988,\n",
       "       2.00893337, 0.76762988, 0.47367361, 0.47367361, 0.76762988,\n",
       "       0.47367361, 0.76762988, 0.47367361, 0.47367361, 0.47367361,\n",
       "       0.47367361, 0.47367361, 0.47367361, 0.76762988, 0.47367361,\n",
       "       0.47367361, 0.47367361, 0.76762988, 0.47367361, 0.47367361,\n",
       "       0.47367361, 0.47367361, 0.47367361, 0.47367361, 0.76762988,\n",
       "       0.47367361, 0.47367361, 0.47367361, 0.47367361, 0.47367361,\n",
       "       0.47367361, 0.47367361, 0.47367361, 0.47367361, 0.47367361,\n",
       "       0.76762988, 0.47367361, 0.47367361, 0.47367361, 0.47367361,\n",
       "       0.47367361, 0.47367361, 0.47367361, 0.47367361, 0.47367361,\n",
       "       0.47367361, 0.47367361, 0.47367361, 0.47367361, 0.47367361,\n",
       "       0.47367361, 3.25023685, 0.47367361, 0.47367361, 0.47367361,\n",
       "       0.47367361, 0.47367361, 2.00893337, 0.47367361, 0.47367361,\n",
       "       0.76762988, 0.76762988, 0.47367361, 0.47367361, 0.47367361,\n",
       "       0.76762988, 0.76762988, 0.47367361, 0.47367361, 2.00893337,\n",
       "       0.76762988, 0.47367361, 0.47367361, 0.47367361, 0.47367361,\n",
       "       0.47367361, 0.47367361, 0.47367361, 2.00893337, 0.47367361,\n",
       "       0.47367361, 0.47367361, 0.47367361, 0.47367361, 0.47367361,\n",
       "       0.47367361, 0.47367361, 0.47367361, 0.47367361, 3.25023685,\n",
       "       0.47367361, 0.47367361, 0.47367361, 0.47367361, 0.76762988,\n",
       "       0.47367361, 0.47367361, 0.47367361, 2.00893337, 0.47367361,\n",
       "       0.47367361, 0.47367361, 0.76762988, 2.00893337, 0.47367361,\n",
       "       0.47367361, 0.47367361, 2.00893337, 0.47367361, 0.47367361,\n",
       "       0.47367361, 0.47367361, 0.47367361, 0.47367361, 0.76762988,\n",
       "       0.47367361, 0.76762988, 2.00893337, 0.76762988, 0.47367361,\n",
       "       0.47367361, 0.47367361, 0.47367361, 0.47367361, 0.47367361,\n",
       "       0.47367361, 0.47367361, 0.47367361, 2.00893337, 0.47367361,\n",
       "       0.47367361, 0.47367361, 0.76762988, 0.47367361, 2.00893337,\n",
       "       0.76762988, 0.47367361, 0.47367361, 0.76762988, 0.76762988,\n",
       "       0.47367361, 0.47367361, 2.00893337, 0.47367361, 0.47367361,\n",
       "       0.47367361, 0.76762988, 0.47367361, 0.47367361, 0.47367361,\n",
       "       0.76762988, 0.47367361, 0.47367361, 0.47367361, 0.47367361,\n",
       "       0.47367361, 0.47367361, 0.47367361, 0.47367361, 0.47367361,\n",
       "       0.47367361, 2.00893337, 0.47367361, 0.76762988, 0.47367361,\n",
       "       2.00893337, 0.47367361, 0.76762988, 0.76762988, 0.47367361,\n",
       "       0.76762988, 0.76762988, 0.47367361, 3.25023685, 0.47367361,\n",
       "       0.47367361, 0.47367361, 0.47367361, 2.00893337, 0.47367361,\n",
       "       0.47367361, 0.47367361, 0.47367361, 0.47367361, 0.76762988,\n",
       "       0.47367361, 0.76762988, 0.47367361, 0.47367361, 0.47367361,\n",
       "       0.47367361, 0.47367361, 0.47367361, 0.47367361, 0.76762988,\n",
       "       0.76762988, 0.47367361, 0.47367361, 0.47367361, 0.47367361,\n",
       "       5.73284383, 0.47367361, 0.47367361, 2.00893337, 0.47367361,\n",
       "       0.47367361])"
      ]
     },
     "execution_count": 15,
     "metadata": {},
     "output_type": "execute_result"
    }
   ],
   "source": [
    "#Removing OUtlier\n",
    "from scipy.stats import zscore\n",
    "z=np.abs(zscore(df['Parch']))\n",
    "z"
   ]
  },
  {
   "cell_type": "code",
   "execution_count": 16,
   "id": "82fb20cf",
   "metadata": {},
   "outputs": [
    {
     "name": "stdout",
     "output_type": "stream",
     "text": [
      "(array([ 13,  25,  86, 167, 360, 437, 438, 567, 610, 638, 678, 736, 774,\n",
      "       858, 885], dtype=int64),)\n"
     ]
    }
   ],
   "source": [
    "threshold=3\n",
    "print(np.where(z>3))"
   ]
  },
  {
   "cell_type": "code",
   "execution_count": 17,
   "id": "787f72e5",
   "metadata": {},
   "outputs": [
    {
     "data": {
      "text/plain": [
       "array([0.43279337, 0.43279337, 0.4745452 , 0.43279337, 0.4745452 ,\n",
       "       0.4745452 , 0.4745452 , 2.24747049, 0.4745452 , 0.43279337,\n",
       "       0.43279337, 0.4745452 , 0.4745452 , 0.43279337, 0.4745452 ,\n",
       "       0.4745452 , 3.15480905, 0.4745452 , 0.43279337, 0.4745452 ,\n",
       "       0.4745452 , 0.4745452 , 0.4745452 , 0.4745452 , 2.24747049,\n",
       "       0.43279337, 0.4745452 , 2.24747049, 0.4745452 , 0.4745452 ,\n",
       "       0.4745452 , 0.43279337, 0.4745452 , 0.4745452 , 0.43279337,\n",
       "       0.43279337, 0.4745452 , 0.4745452 , 1.34013193, 0.43279337,\n",
       "       0.43279337, 0.43279337, 0.4745452 , 0.43279337, 0.4745452 ,\n",
       "       0.4745452 , 0.43279337, 0.4745452 , 1.34013193, 0.43279337,\n",
       "       3.15480905, 0.4745452 , 0.43279337, 0.43279337, 0.4745452 ,\n",
       "       0.4745452 , 0.4745452 , 0.4745452 , 0.43279337, 4.06214761,\n",
       "       0.4745452 , 0.4745452 , 0.43279337, 2.24747049, 0.4745452 ,\n",
       "       0.43279337, 0.4745452 , 0.4745452 , 3.15480905, 1.34013193,\n",
       "       0.4745452 , 4.06214761, 0.4745452 , 0.43279337, 0.4745452 ,\n",
       "       0.4745452 , 0.4745452 , 0.4745452 , 0.4745452 , 0.4745452 ,\n",
       "       0.4745452 , 0.4745452 , 0.4745452 , 0.4745452 , 0.4745452 ,\n",
       "       2.24747049, 0.43279337, 0.4745452 , 2.24747049, 0.4745452 ,\n",
       "       0.4745452 , 0.4745452 , 0.43279337, 0.43279337, 0.4745452 ,\n",
       "       0.4745452 , 0.4745452 , 0.4745452 , 0.4745452 , 0.43279337,\n",
       "       0.4745452 , 0.4745452 , 0.4745452 , 0.4745452 , 1.34013193,\n",
       "       0.4745452 , 0.4745452 , 0.4745452 , 0.4745452 , 0.43279337,\n",
       "       0.4745452 , 0.43279337, 0.4745452 , 0.43279337, 0.4745452 ,\n",
       "       0.4745452 , 0.4745452 , 0.43279337, 0.4745452 , 3.15480905,\n",
       "       1.34013193, 0.4745452 , 0.43279337, 0.4745452 , 0.4745452 ,\n",
       "       0.43279337, 0.4745452 , 0.4745452 , 0.43279337, 0.4745452 ,\n",
       "       0.4745452 , 0.4745452 , 0.43279337, 0.43279337, 0.4745452 ,\n",
       "       0.4745452 , 0.4745452 , 0.43279337, 0.4745452 , 0.4745452 ,\n",
       "       0.4745452 , 0.4745452 , 0.43279337, 0.4745452 , 0.4745452 ,\n",
       "       0.43279337, 0.4745452 , 1.34013193, 0.4745452 , 0.4745452 ,\n",
       "       0.4745452 , 0.43279337, 0.4745452 , 0.4745452 , 0.4745452 ,\n",
       "       0.4745452 , 0.4745452 , 0.4745452 , 0.4745452 , 6.7841633 ,\n",
       "       0.4745452 , 0.4745452 , 0.4745452 , 0.4745452 , 3.15480905,\n",
       "       0.4745452 , 0.4745452 , 0.43279337, 0.4745452 , 0.4745452 ,\n",
       "       0.4745452 , 3.15480905, 0.43279337, 0.4745452 , 0.4745452 ,\n",
       "       0.43279337, 2.24747049, 0.4745452 , 0.4745452 , 0.4745452 ,\n",
       "       6.7841633 , 0.4745452 , 3.15480905, 1.34013193, 0.4745452 ,\n",
       "       0.4745452 , 0.43279337, 0.4745452 , 0.43279337, 0.4745452 ,\n",
       "       0.4745452 , 0.4745452 , 0.43279337, 0.43279337, 0.4745452 ,\n",
       "       0.4745452 , 0.4745452 , 0.4745452 , 0.4745452 , 0.4745452 ,\n",
       "       0.4745452 , 6.7841633 , 0.4745452 , 0.4745452 , 0.4745452 ,\n",
       "       0.4745452 , 0.43279337, 0.4745452 , 0.4745452 , 0.4745452 ,\n",
       "       0.4745452 , 0.4745452 , 0.4745452 , 0.4745452 , 0.43279337,\n",
       "       0.43279337, 0.4745452 , 0.43279337, 0.4745452 , 0.4745452 ,\n",
       "       0.4745452 , 0.4745452 , 0.4745452 , 0.4745452 , 0.43279337,\n",
       "       0.4745452 , 0.4745452 , 0.4745452 , 0.4745452 , 2.24747049,\n",
       "       0.43279337, 0.4745452 , 0.4745452 , 3.15480905, 0.4745452 ,\n",
       "       0.4745452 , 0.43279337, 0.4745452 , 0.4745452 , 0.4745452 ,\n",
       "       0.43279337, 0.43279337, 0.4745452 , 0.4745452 , 0.4745452 ,\n",
       "       1.34013193, 0.4745452 , 0.4745452 , 0.43279337, 0.43279337,\n",
       "       0.4745452 , 0.43279337, 0.4745452 , 0.43279337, 0.4745452 ,\n",
       "       0.4745452 , 0.4745452 , 0.4745452 , 0.4745452 , 0.4745452 ,\n",
       "       0.4745452 , 3.15480905, 0.43279337, 0.4745452 , 0.4745452 ,\n",
       "       0.4745452 , 3.15480905, 0.43279337, 0.4745452 , 0.4745452 ,\n",
       "       0.4745452 , 0.4745452 , 0.4745452 , 0.4745452 , 0.4745452 ,\n",
       "       0.43279337, 0.4745452 , 0.4745452 , 3.15480905, 0.43279337,\n",
       "       0.4745452 , 0.4745452 , 0.4745452 , 0.4745452 , 0.4745452 ,\n",
       "       0.4745452 , 0.4745452 , 0.4745452 , 0.4745452 , 0.4745452 ,\n",
       "       0.4745452 , 0.43279337, 0.4745452 , 0.4745452 , 0.4745452 ,\n",
       "       0.4745452 , 0.4745452 , 0.43279337, 0.4745452 , 0.4745452 ,\n",
       "       0.4745452 , 1.34013193, 0.4745452 , 0.4745452 , 0.4745452 ,\n",
       "       0.43279337, 0.4745452 , 0.43279337, 0.43279337, 0.4745452 ,\n",
       "       0.4745452 , 1.34013193, 0.43279337, 0.4745452 , 0.43279337,\n",
       "       0.4745452 , 0.43279337, 0.4745452 , 0.4745452 , 0.43279337,\n",
       "       0.4745452 , 0.4745452 , 0.4745452 , 0.43279337, 6.7841633 ,\n",
       "       0.4745452 , 0.4745452 , 0.4745452 , 0.43279337, 0.4745452 ,\n",
       "       1.34013193, 0.4745452 , 0.4745452 , 1.34013193, 0.43279337,\n",
       "       0.4745452 , 0.43279337, 0.4745452 , 0.4745452 , 0.4745452 ,\n",
       "       0.43279337, 2.24747049, 0.4745452 , 0.4745452 , 0.4745452 ,\n",
       "       0.4745452 , 0.4745452 , 0.43279337, 0.43279337, 0.4745452 ,\n",
       "       0.4745452 , 0.4745452 , 0.43279337, 0.43279337, 0.4745452 ,\n",
       "       0.4745452 , 0.4745452 , 0.4745452 , 0.4745452 , 0.4745452 ,\n",
       "       0.43279337, 0.43279337, 0.4745452 , 0.4745452 , 0.43279337,\n",
       "       0.4745452 , 0.43279337, 0.4745452 , 0.4745452 , 0.4745452 ,\n",
       "       0.43279337, 0.43279337, 0.4745452 , 0.4745452 , 2.24747049,\n",
       "       0.43279337, 0.4745452 , 0.4745452 , 0.4745452 , 0.4745452 ,\n",
       "       0.4745452 , 0.4745452 , 0.4745452 , 0.43279337, 0.4745452 ,\n",
       "       0.4745452 , 4.06214761, 0.4745452 , 0.4745452 , 0.4745452 ,\n",
       "       0.43279337, 0.4745452 , 1.34013193, 0.43279337, 0.4745452 ,\n",
       "       0.4745452 , 0.4745452 , 0.4745452 , 0.4745452 , 0.4745452 ,\n",
       "       0.4745452 , 0.4745452 , 0.43279337, 0.43279337, 0.4745452 ,\n",
       "       0.43279337, 0.4745452 , 0.43279337, 0.4745452 , 2.24747049,\n",
       "       0.4745452 , 0.4745452 , 0.43279337, 0.4745452 , 0.4745452 ,\n",
       "       0.4745452 , 0.43279337, 0.4745452 , 0.4745452 , 0.4745452 ,\n",
       "       0.4745452 , 0.4745452 , 0.4745452 , 0.43279337, 0.43279337,\n",
       "       0.4745452 , 0.43279337, 0.4745452 , 0.4745452 , 0.4745452 ,\n",
       "       0.4745452 , 0.43279337, 0.43279337, 0.4745452 , 0.43279337,\n",
       "       0.43279337, 1.34013193, 1.34013193, 0.43279337, 0.4745452 ,\n",
       "       0.43279337, 0.4745452 , 0.43279337, 0.4745452 , 0.4745452 ,\n",
       "       0.4745452 , 0.4745452 , 0.4745452 , 1.34013193, 0.4745452 ,\n",
       "       0.43279337, 0.43279337, 0.4745452 , 0.43279337, 0.4745452 ,\n",
       "       0.4745452 , 0.4745452 , 0.43279337, 0.4745452 , 0.4745452 ,\n",
       "       0.4745452 , 0.4745452 , 0.4745452 , 0.4745452 , 0.4745452 ,\n",
       "       0.4745452 , 0.4745452 , 0.4745452 , 0.4745452 , 1.34013193,\n",
       "       0.4745452 , 0.4745452 , 0.43279337, 0.4745452 , 0.4745452 ,\n",
       "       0.4745452 , 0.43279337, 0.43279337, 0.4745452 , 0.4745452 ,\n",
       "       4.06214761, 0.4745452 , 0.4745452 , 0.4745452 , 0.43279337,\n",
       "       2.24747049, 0.43279337, 0.4745452 , 0.4745452 , 0.43279337,\n",
       "       0.43279337, 0.4745452 , 0.4745452 , 0.4745452 , 0.4745452 ,\n",
       "       0.4745452 , 0.43279337, 0.4745452 , 0.43279337, 0.4745452 ,\n",
       "       0.4745452 , 0.4745452 , 0.4745452 , 0.4745452 , 0.4745452 ,\n",
       "       0.43279337, 0.4745452 , 0.4745452 , 0.4745452 , 0.4745452 ,\n",
       "       0.4745452 , 0.4745452 , 0.4745452 , 0.43279337, 0.4745452 ,\n",
       "       0.4745452 , 0.4745452 , 0.4745452 , 0.43279337, 0.4745452 ,\n",
       "       0.4745452 , 0.4745452 , 0.4745452 , 0.4745452 , 0.4745452 ,\n",
       "       0.4745452 , 0.4745452 , 0.4745452 , 0.4745452 , 1.34013193,\n",
       "       0.43279337, 0.4745452 , 0.43279337, 0.4745452 , 0.4745452 ,\n",
       "       0.4745452 , 0.4745452 , 0.4745452 , 0.4745452 , 0.4745452 ,\n",
       "       0.4745452 , 3.15480905, 3.15480905, 0.43279337, 0.43279337,\n",
       "       0.4745452 , 0.43279337, 0.4745452 , 0.43279337, 0.43279337,\n",
       "       0.4745452 , 0.4745452 , 0.4745452 , 0.4745452 , 0.4745452 ,\n",
       "       0.4745452 , 0.43279337, 0.4745452 , 0.43279337, 0.43279337,\n",
       "       0.4745452 , 0.4745452 , 0.4745452 , 0.4745452 , 0.4745452 ,\n",
       "       1.34013193, 0.4745452 , 0.4745452 , 0.4745452 , 0.4745452 ,\n",
       "       0.4745452 , 1.34013193, 0.4745452 , 0.4745452 , 0.4745452 ,\n",
       "       0.4745452 , 0.4745452 , 0.43279337, 0.43279337, 0.4745452 ,\n",
       "       0.43279337, 0.43279337, 0.4745452 , 0.4745452 , 0.4745452 ,\n",
       "       0.4745452 , 0.4745452 , 0.43279337, 0.4745452 , 0.4745452 ,\n",
       "       0.4745452 , 0.43279337, 0.4745452 , 0.4745452 , 0.43279337,\n",
       "       0.43279337, 0.4745452 , 0.4745452 , 0.4745452 , 0.43279337,\n",
       "       1.34013193, 0.4745452 , 0.4745452 , 0.4745452 , 0.4745452 ,\n",
       "       0.43279337, 0.4745452 , 0.4745452 , 0.43279337, 0.4745452 ,\n",
       "       0.43279337, 0.4745452 , 0.43279337, 0.4745452 , 0.4745452 ,\n",
       "       0.43279337, 0.43279337, 0.43279337, 1.34013193, 0.4745452 ,\n",
       "       0.43279337, 0.43279337, 0.43279337, 0.4745452 , 0.4745452 ,\n",
       "       0.4745452 , 0.4745452 , 0.4745452 , 0.4745452 , 0.4745452 ,\n",
       "       0.4745452 , 0.4745452 , 0.4745452 , 0.4745452 , 2.24747049,\n",
       "       0.4745452 , 0.4745452 , 0.43279337, 0.4745452 , 0.43279337,\n",
       "       0.4745452 , 0.4745452 , 2.24747049, 0.4745452 , 1.34013193,\n",
       "       0.43279337, 0.4745452 , 0.4745452 , 0.4745452 , 0.4745452 ,\n",
       "       0.4745452 , 0.4745452 , 0.4745452 , 0.4745452 , 0.4745452 ,\n",
       "       1.34013193, 0.4745452 , 0.43279337, 0.4745452 , 0.4745452 ,\n",
       "       1.34013193, 0.4745452 , 0.4745452 , 0.4745452 , 0.43279337,\n",
       "       1.34013193, 0.4745452 , 0.4745452 , 0.4745452 , 0.43279337,\n",
       "       0.43279337, 0.43279337, 0.4745452 , 0.4745452 , 0.4745452 ,\n",
       "       0.4745452 , 0.4745452 , 0.4745452 , 0.43279337, 0.4745452 ,\n",
       "       0.4745452 , 0.4745452 , 0.4745452 , 4.06214761, 0.43279337,\n",
       "       0.43279337, 3.15480905, 0.4745452 , 0.4745452 , 0.4745452 ,\n",
       "       0.43279337, 0.4745452 , 0.4745452 , 0.4745452 , 0.4745452 ,\n",
       "       0.4745452 , 0.4745452 , 0.4745452 , 0.43279337, 0.4745452 ,\n",
       "       0.43279337, 0.4745452 , 0.4745452 , 0.4745452 , 0.43279337,\n",
       "       0.4745452 , 0.4745452 , 0.4745452 , 0.4745452 , 0.43279337,\n",
       "       0.4745452 , 0.4745452 , 0.43279337, 0.4745452 , 0.4745452 ,\n",
       "       0.4745452 , 0.4745452 , 0.4745452 , 0.4745452 , 0.4745452 ,\n",
       "       0.4745452 , 0.43279337, 0.4745452 , 0.4745452 , 0.43279337,\n",
       "       0.4745452 , 2.24747049, 0.4745452 , 0.43279337, 0.43279337,\n",
       "       0.4745452 , 0.4745452 , 0.4745452 , 0.4745452 , 0.4745452 ,\n",
       "       0.4745452 , 0.43279337, 0.4745452 , 0.4745452 , 0.4745452 ,\n",
       "       0.4745452 , 0.43279337, 1.34013193, 0.43279337, 0.4745452 ,\n",
       "       0.43279337, 0.43279337, 0.4745452 , 0.43279337, 0.4745452 ,\n",
       "       0.43279337, 0.4745452 , 0.4745452 , 0.4745452 , 0.43279337,\n",
       "       0.43279337, 0.4745452 , 0.4745452 , 0.4745452 , 0.4745452 ,\n",
       "       0.4745452 , 0.4745452 , 0.4745452 , 0.43279337, 0.4745452 ,\n",
       "       0.43279337, 0.4745452 , 0.4745452 , 0.43279337, 0.4745452 ,\n",
       "       0.4745452 , 0.4745452 , 0.4745452 , 0.4745452 , 0.43279337,\n",
       "       0.4745452 , 0.4745452 , 0.4745452 , 0.4745452 , 0.4745452 ,\n",
       "       0.4745452 , 0.43279337, 0.4745452 , 0.43279337, 0.4745452 ,\n",
       "       0.4745452 , 0.4745452 , 3.15480905, 0.43279337, 0.4745452 ,\n",
       "       0.4745452 , 0.4745452 , 6.7841633 , 0.4745452 , 0.4745452 ,\n",
       "       0.4745452 , 0.4745452 , 0.4745452 , 0.4745452 , 0.43279337,\n",
       "       0.4745452 , 0.43279337, 0.43279337, 0.4745452 , 0.4745452 ,\n",
       "       0.4745452 , 0.4745452 , 0.4745452 , 0.4745452 , 0.43279337,\n",
       "       0.4745452 , 0.4745452 , 0.4745452 , 3.15480905, 0.4745452 ,\n",
       "       0.4745452 , 0.4745452 , 0.43279337, 0.4745452 , 2.24747049,\n",
       "       0.43279337, 0.4745452 , 0.4745452 , 0.4745452 , 3.15480905,\n",
       "       0.4745452 , 0.4745452 , 0.4745452 , 0.4745452 , 0.4745452 ,\n",
       "       0.43279337, 0.43279337, 0.4745452 , 0.4745452 , 0.4745452 ,\n",
       "       0.43279337, 0.4745452 , 0.4745452 , 0.4745452 , 0.4745452 ,\n",
       "       0.4745452 , 0.4745452 , 0.4745452 , 0.4745452 , 0.4745452 ,\n",
       "       0.4745452 , 6.7841633 , 0.4745452 , 0.4745452 , 0.43279337,\n",
       "       3.15480905, 0.4745452 , 0.43279337, 0.4745452 , 0.43279337,\n",
       "       0.4745452 , 0.43279337, 0.4745452 , 0.4745452 , 0.4745452 ,\n",
       "       1.34013193, 0.43279337, 0.4745452 , 6.7841633 , 0.4745452 ,\n",
       "       0.4745452 , 0.43279337, 0.4745452 , 0.4745452 , 0.43279337,\n",
       "       0.4745452 , 0.43279337, 0.4745452 , 0.4745452 , 0.43279337,\n",
       "       0.4745452 , 0.4745452 , 0.4745452 , 0.4745452 , 0.4745452 ,\n",
       "       0.4745452 , 0.4745452 , 0.4745452 , 0.4745452 , 0.4745452 ,\n",
       "       0.4745452 , 0.4745452 , 0.4745452 , 0.43279337, 0.4745452 ,\n",
       "       0.4745452 ])"
      ]
     },
     "execution_count": 17,
     "metadata": {},
     "output_type": "execute_result"
    }
   ],
   "source": [
    "#Removing OUtlier\n",
    "from scipy.stats import zscore\n",
    "z=np.abs(zscore(df['SibSp']))\n",
    "z"
   ]
  },
  {
   "cell_type": "code",
   "execution_count": 18,
   "id": "499d8bd6",
   "metadata": {},
   "outputs": [
    {
     "data": {
      "text/html": [
       "<div>\n",
       "<style scoped>\n",
       "    .dataframe tbody tr th:only-of-type {\n",
       "        vertical-align: middle;\n",
       "    }\n",
       "\n",
       "    .dataframe tbody tr th {\n",
       "        vertical-align: top;\n",
       "    }\n",
       "\n",
       "    .dataframe thead th {\n",
       "        text-align: right;\n",
       "    }\n",
       "</style>\n",
       "<table border=\"1\" class=\"dataframe\">\n",
       "  <thead>\n",
       "    <tr style=\"text-align: right;\">\n",
       "      <th></th>\n",
       "      <th>PassengerId</th>\n",
       "      <th>Survived</th>\n",
       "      <th>Pclass</th>\n",
       "      <th>Name</th>\n",
       "      <th>Sex</th>\n",
       "      <th>Age</th>\n",
       "      <th>SibSp</th>\n",
       "      <th>Parch</th>\n",
       "      <th>Ticket</th>\n",
       "      <th>Fare</th>\n",
       "      <th>Embarked</th>\n",
       "    </tr>\n",
       "  </thead>\n",
       "  <tbody>\n",
       "    <tr>\n",
       "      <th>0</th>\n",
       "      <td>1</td>\n",
       "      <td>0</td>\n",
       "      <td>3</td>\n",
       "      <td>Braund, Mr. Owen Harris</td>\n",
       "      <td>male</td>\n",
       "      <td>22.000000</td>\n",
       "      <td>1</td>\n",
       "      <td>0</td>\n",
       "      <td>A/5 21171</td>\n",
       "      <td>7.2500</td>\n",
       "      <td>S</td>\n",
       "    </tr>\n",
       "    <tr>\n",
       "      <th>1</th>\n",
       "      <td>2</td>\n",
       "      <td>1</td>\n",
       "      <td>1</td>\n",
       "      <td>Cumings, Mrs. John Bradley (Florence Briggs Th...</td>\n",
       "      <td>female</td>\n",
       "      <td>38.000000</td>\n",
       "      <td>1</td>\n",
       "      <td>0</td>\n",
       "      <td>PC 17599</td>\n",
       "      <td>71.2833</td>\n",
       "      <td>C</td>\n",
       "    </tr>\n",
       "    <tr>\n",
       "      <th>2</th>\n",
       "      <td>3</td>\n",
       "      <td>1</td>\n",
       "      <td>3</td>\n",
       "      <td>Heikkinen, Miss. Laina</td>\n",
       "      <td>female</td>\n",
       "      <td>26.000000</td>\n",
       "      <td>0</td>\n",
       "      <td>0</td>\n",
       "      <td>STON/O2. 3101282</td>\n",
       "      <td>7.9250</td>\n",
       "      <td>S</td>\n",
       "    </tr>\n",
       "    <tr>\n",
       "      <th>3</th>\n",
       "      <td>4</td>\n",
       "      <td>1</td>\n",
       "      <td>1</td>\n",
       "      <td>Futrelle, Mrs. Jacques Heath (Lily May Peel)</td>\n",
       "      <td>female</td>\n",
       "      <td>35.000000</td>\n",
       "      <td>1</td>\n",
       "      <td>0</td>\n",
       "      <td>113803</td>\n",
       "      <td>53.1000</td>\n",
       "      <td>S</td>\n",
       "    </tr>\n",
       "    <tr>\n",
       "      <th>4</th>\n",
       "      <td>5</td>\n",
       "      <td>0</td>\n",
       "      <td>3</td>\n",
       "      <td>Allen, Mr. William Henry</td>\n",
       "      <td>male</td>\n",
       "      <td>35.000000</td>\n",
       "      <td>0</td>\n",
       "      <td>0</td>\n",
       "      <td>373450</td>\n",
       "      <td>8.0500</td>\n",
       "      <td>S</td>\n",
       "    </tr>\n",
       "    <tr>\n",
       "      <th>...</th>\n",
       "      <td>...</td>\n",
       "      <td>...</td>\n",
       "      <td>...</td>\n",
       "      <td>...</td>\n",
       "      <td>...</td>\n",
       "      <td>...</td>\n",
       "      <td>...</td>\n",
       "      <td>...</td>\n",
       "      <td>...</td>\n",
       "      <td>...</td>\n",
       "      <td>...</td>\n",
       "    </tr>\n",
       "    <tr>\n",
       "      <th>886</th>\n",
       "      <td>887</td>\n",
       "      <td>0</td>\n",
       "      <td>2</td>\n",
       "      <td>Montvila, Rev. Juozas</td>\n",
       "      <td>male</td>\n",
       "      <td>27.000000</td>\n",
       "      <td>0</td>\n",
       "      <td>0</td>\n",
       "      <td>211536</td>\n",
       "      <td>13.0000</td>\n",
       "      <td>S</td>\n",
       "    </tr>\n",
       "    <tr>\n",
       "      <th>887</th>\n",
       "      <td>888</td>\n",
       "      <td>1</td>\n",
       "      <td>1</td>\n",
       "      <td>Graham, Miss. Margaret Edith</td>\n",
       "      <td>female</td>\n",
       "      <td>19.000000</td>\n",
       "      <td>0</td>\n",
       "      <td>0</td>\n",
       "      <td>112053</td>\n",
       "      <td>30.0000</td>\n",
       "      <td>S</td>\n",
       "    </tr>\n",
       "    <tr>\n",
       "      <th>888</th>\n",
       "      <td>889</td>\n",
       "      <td>0</td>\n",
       "      <td>3</td>\n",
       "      <td>Johnston, Miss. Catherine Helen \"Carrie\"</td>\n",
       "      <td>female</td>\n",
       "      <td>29.699118</td>\n",
       "      <td>1</td>\n",
       "      <td>2</td>\n",
       "      <td>W./C. 6607</td>\n",
       "      <td>23.4500</td>\n",
       "      <td>S</td>\n",
       "    </tr>\n",
       "    <tr>\n",
       "      <th>889</th>\n",
       "      <td>890</td>\n",
       "      <td>1</td>\n",
       "      <td>1</td>\n",
       "      <td>Behr, Mr. Karl Howell</td>\n",
       "      <td>male</td>\n",
       "      <td>26.000000</td>\n",
       "      <td>0</td>\n",
       "      <td>0</td>\n",
       "      <td>111369</td>\n",
       "      <td>30.0000</td>\n",
       "      <td>C</td>\n",
       "    </tr>\n",
       "    <tr>\n",
       "      <th>890</th>\n",
       "      <td>891</td>\n",
       "      <td>0</td>\n",
       "      <td>3</td>\n",
       "      <td>Dooley, Mr. Patrick</td>\n",
       "      <td>male</td>\n",
       "      <td>32.000000</td>\n",
       "      <td>0</td>\n",
       "      <td>0</td>\n",
       "      <td>370376</td>\n",
       "      <td>7.7500</td>\n",
       "      <td>Q</td>\n",
       "    </tr>\n",
       "  </tbody>\n",
       "</table>\n",
       "<p>891 rows × 11 columns</p>\n",
       "</div>"
      ],
      "text/plain": [
       "     PassengerId  Survived  Pclass  \\\n",
       "0              1         0       3   \n",
       "1              2         1       1   \n",
       "2              3         1       3   \n",
       "3              4         1       1   \n",
       "4              5         0       3   \n",
       "..           ...       ...     ...   \n",
       "886          887         0       2   \n",
       "887          888         1       1   \n",
       "888          889         0       3   \n",
       "889          890         1       1   \n",
       "890          891         0       3   \n",
       "\n",
       "                                                  Name     Sex        Age  \\\n",
       "0                              Braund, Mr. Owen Harris    male  22.000000   \n",
       "1    Cumings, Mrs. John Bradley (Florence Briggs Th...  female  38.000000   \n",
       "2                               Heikkinen, Miss. Laina  female  26.000000   \n",
       "3         Futrelle, Mrs. Jacques Heath (Lily May Peel)  female  35.000000   \n",
       "4                             Allen, Mr. William Henry    male  35.000000   \n",
       "..                                                 ...     ...        ...   \n",
       "886                              Montvila, Rev. Juozas    male  27.000000   \n",
       "887                       Graham, Miss. Margaret Edith  female  19.000000   \n",
       "888           Johnston, Miss. Catherine Helen \"Carrie\"  female  29.699118   \n",
       "889                              Behr, Mr. Karl Howell    male  26.000000   \n",
       "890                                Dooley, Mr. Patrick    male  32.000000   \n",
       "\n",
       "     SibSp  Parch            Ticket     Fare Embarked  \n",
       "0        1      0         A/5 21171   7.2500        S  \n",
       "1        1      0          PC 17599  71.2833        C  \n",
       "2        0      0  STON/O2. 3101282   7.9250        S  \n",
       "3        1      0            113803  53.1000        S  \n",
       "4        0      0            373450   8.0500        S  \n",
       "..     ...    ...               ...      ...      ...  \n",
       "886      0      0            211536  13.0000        S  \n",
       "887      0      0            112053  30.0000        S  \n",
       "888      1      2        W./C. 6607  23.4500        S  \n",
       "889      0      0            111369  30.0000        C  \n",
       "890      0      0            370376   7.7500        Q  \n",
       "\n",
       "[891 rows x 11 columns]"
      ]
     },
     "execution_count": 18,
     "metadata": {},
     "output_type": "execute_result"
    }
   ],
   "source": [
    "df"
   ]
  },
  {
   "cell_type": "code",
   "execution_count": 19,
   "id": "fce04af7",
   "metadata": {},
   "outputs": [
    {
     "data": {
      "text/plain": [
       "array([[<AxesSubplot:ylabel='Density'>, <AxesSubplot:ylabel='Density'>,\n",
       "        <AxesSubplot:ylabel='Density'>, <AxesSubplot:ylabel='Density'>],\n",
       "       [<AxesSubplot:ylabel='Density'>, <AxesSubplot:ylabel='Density'>,\n",
       "        <AxesSubplot:ylabel='Density'>, <AxesSubplot:ylabel='Density'>]],\n",
       "      dtype=object)"
      ]
     },
     "execution_count": 19,
     "metadata": {},
     "output_type": "execute_result"
    },
    {
     "data": {
      "image/png": "[encoded data removed]",
      "text/plain": [
       "<Figure size 1080x432 with 8 Axes>"
      ]
     },
     "metadata": {
      "needs_background": "light"
     },
     "output_type": "display_data"
    }
   ],
   "source": [
    "#to check Distribution of skewness\n",
    "df.plot(kind='kde',subplots=True,layout=(2,4),figsize=(15,6))"
   ]
  },
  {
   "cell_type": "markdown",
   "id": "de7a9acf",
   "metadata": {},
   "source": [
    "### Correlation Matrix"
   ]
  },
  {
   "cell_type": "code",
   "execution_count": 20,
   "id": "312d7e62",
   "metadata": {},
   "outputs": [
    {
     "data": {
      "text/plain": [
       "<AxesSubplot:>"
      ]
     },
     "execution_count": 20,
     "metadata": {},
     "output_type": "execute_result"
    },
    {
     "data": {
      "image/png": "[encoded data removed]",
      "text/plain": [
       "<Figure size 432x288 with 2 Axes>"
      ]
     },
     "metadata": {
      "needs_background": "light"
     },
     "output_type": "display_data"
    }
   ],
   "source": [
    "corr=df.corr()\n",
    "sns.heatmap(corr,annot=True,cmap='coolwarm')\n",
    "# Parch are positive correlated with target variable Pclass are negative correlated with target variable"
   ]
  },
  {
   "cell_type": "code",
   "execution_count": 21,
   "id": "260e6179",
   "metadata": {
    "scrolled": true
   },
   "outputs": [
    {
     "data": {
      "image/png": "[encoded data removed]",
      "text/plain": [
       "<Figure size 430.5x360 with 1 Axes>"
      ]
     },
     "metadata": {
      "needs_background": "light"
     },
     "output_type": "display_data"
    }
   ],
   "source": [
    "g=sns.catplot(x=\"Pclass\",y=\"Survived\",hue='Sex',data=df,kind='bar')\n",
    "plt.show()"
   ]
  },
  {
   "cell_type": "markdown",
   "id": "d7f9f414",
   "metadata": {},
   "source": [
    "For Women the survival chances are higher,for man the probability of survival is very low."
   ]
  },
  {
   "cell_type": "code",
   "execution_count": 22,
   "id": "3364a4af",
   "metadata": {},
   "outputs": [
    {
     "data": {
      "text/plain": [
       "<AxesSubplot:xlabel='Pclass', ylabel='Survived'>"
      ]
     },
     "execution_count": 22,
     "metadata": {},
     "output_type": "execute_result"
    },
    {
     "data": {
      "image/png": "[encoded data removed]",
      "text/plain": [
       "<Figure size 432x288 with 1 Axes>"
      ]
     },
     "metadata": {
      "needs_background": "light"
     },
     "output_type": "display_data"
    }
   ],
   "source": [
    "sns.barplot(x=\"Pclass\",y='Survived',data=df)"
   ]
  },
  {
   "cell_type": "markdown",
   "id": "8b5feadb",
   "metadata": {},
   "source": [
    "Observation:\n",
    "   \n",
    "   Pclass 1 we can spot a high probability of survived but very low in Pclass 3.    "
   ]
  },
  {
   "cell_type": "code",
   "execution_count": 23,
   "id": "09de6b6b",
   "metadata": {},
   "outputs": [
    {
     "data": {
      "text/plain": [
       "0    549\n",
       "1    342\n",
       "Name: Survived, dtype: int64"
      ]
     },
     "execution_count": 23,
     "metadata": {},
     "output_type": "execute_result"
    }
   ],
   "source": [
    "# finding the number of peopele survived and not survived\n",
    "df['Survived'].value_counts()"
   ]
  },
  {
   "cell_type": "code",
   "execution_count": 24,
   "id": "742f3958",
   "metadata": {},
   "outputs": [
    {
     "data": {
      "text/plain": [
       "<AxesSubplot:xlabel='Survived', ylabel='count'>"
      ]
     },
     "execution_count": 24,
     "metadata": {},
     "output_type": "execute_result"
    },
    {
     "data": {
      "image/png": "[encoded data removed]",
      "text/plain": [
       "<Figure size 432x288 with 1 Axes>"
      ]
     },
     "metadata": {
      "needs_background": "light"
     },
     "output_type": "display_data"
    }
   ],
   "source": [
    "sns.countplot(df['Survived'])"
   ]
  },
  {
   "cell_type": "code",
   "execution_count": 25,
   "id": "ffceb723",
   "metadata": {},
   "outputs": [
    {
     "data": {
      "text/plain": [
       "<AxesSubplot:xlabel='Sex', ylabel='count'>"
      ]
     },
     "execution_count": 25,
     "metadata": {},
     "output_type": "execute_result"
    },
    {
     "data": {
      "image/png": "[encoded data removed]",
      "text/plain": [
       "<Figure size 432x288 with 1 Axes>"
      ]
     },
     "metadata": {
      "needs_background": "light"
     },
     "output_type": "display_data"
    }
   ],
   "source": [
    "# making a countplot for sex column\n",
    "sns.countplot('Sex',data=df)"
   ]
  },
  {
   "cell_type": "code",
   "execution_count": 26,
   "id": "9437094a",
   "metadata": {
    "scrolled": true
   },
   "outputs": [
    {
     "data": {
      "text/plain": [
       "<AxesSubplot:xlabel='Sex', ylabel='count'>"
      ]
     },
     "execution_count": 26,
     "metadata": {},
     "output_type": "execute_result"
    },
    {
     "data": {
      "image/png": "[encoded data removed]",
      "text/plain": [
       "<Figure size 432x288 with 1 Axes>"
      ]
     },
     "metadata": {
      "needs_background": "light"
     },
     "output_type": "display_data"
    }
   ],
   "source": [
    "sns.countplot('Sex',hue='Survived',data=df) "
   ]
  },
  {
   "cell_type": "raw",
   "id": "72e32e4f",
   "metadata": {},
   "source": [
    " female survived are more as compare to male servived"
   ]
  },
  {
   "cell_type": "code",
   "execution_count": 27,
   "id": "40aae294",
   "metadata": {},
   "outputs": [
    {
     "data": {
      "text/plain": [
       "count        891\n",
       "unique       681\n",
       "top       347082\n",
       "freq           7\n",
       "Name: Ticket, dtype: object"
      ]
     },
     "execution_count": 27,
     "metadata": {},
     "output_type": "execute_result"
    }
   ],
   "source": [
    "df['Ticket'].describe()"
   ]
  },
  {
   "cell_type": "markdown",
   "id": "816514fe",
   "metadata": {},
   "source": [
    "since the ticket attribute has 681 unique tickets,it will be a bit tricky to convert them into useful categories.\n",
    "so we will drop it from the dataset."
   ]
  },
  {
   "cell_type": "code",
   "execution_count": 28,
   "id": "d7d59aac",
   "metadata": {},
   "outputs": [],
   "source": [
    "df.drop('Ticket',axis=1,inplace=True)"
   ]
  },
  {
   "cell_type": "code",
   "execution_count": 29,
   "id": "29ce2c94",
   "metadata": {},
   "outputs": [
    {
     "data": {
      "text/plain": [
       "S    646\n",
       "C    168\n",
       "Q     77\n",
       "Name: Embarked, dtype: int64"
      ]
     },
     "execution_count": 29,
     "metadata": {},
     "output_type": "execute_result"
    }
   ],
   "source": [
    "df.Embarked.value_counts()"
   ]
  },
  {
   "cell_type": "code",
   "execution_count": 30,
   "id": "2b08ee1a",
   "metadata": {},
   "outputs": [],
   "source": [
    "df[\"Embarked\"].replace(['S'],'0',inplace=True)\n",
    "df[\"Embarked\"].replace(['C'],'1',inplace=True) #need to convert into numeric \n",
    "df[\"Embarked\"].replace(['Q'],'2',inplace=True)"
   ]
  },
  {
   "cell_type": "code",
   "execution_count": 31,
   "id": "4f03cc78",
   "metadata": {},
   "outputs": [
    {
     "data": {
      "text/plain": [
       "array(['male', 'female'], dtype=object)"
      ]
     },
     "execution_count": 31,
     "metadata": {},
     "output_type": "execute_result"
    }
   ],
   "source": [
    "df.Sex.unique()"
   ]
  },
  {
   "cell_type": "code",
   "execution_count": 32,
   "id": "2a64af21",
   "metadata": {},
   "outputs": [
    {
     "data": {
      "text/plain": [
       "male      577\n",
       "female    314\n",
       "Name: Sex, dtype: int64"
      ]
     },
     "execution_count": 32,
     "metadata": {},
     "output_type": "execute_result"
    }
   ],
   "source": [
    "df.Sex.value_counts()"
   ]
  },
  {
   "cell_type": "code",
   "execution_count": 33,
   "id": "8dec493f",
   "metadata": {},
   "outputs": [],
   "source": [
    "df[\"Sex\"].replace(['male'],'0',inplace=True)\n",
    "df[\"Sex\"].replace(['female'],'1',inplace=True)"
   ]
  },
  {
   "cell_type": "code",
   "execution_count": 34,
   "id": "7de8186f",
   "metadata": {},
   "outputs": [],
   "source": [
    "# separating features and target\n",
    "x=df.drop(columns=['PassengerId','Name','Survived'],axis=1)\n",
    "y=df['Survived']"
   ]
  },
  {
   "cell_type": "code",
   "execution_count": 35,
   "id": "67fe4104",
   "metadata": {},
   "outputs": [],
   "source": [
    "df.drop('Name',axis=1,inplace=True)"
   ]
  },
  {
   "cell_type": "markdown",
   "id": "9960e6a5",
   "metadata": {},
   "source": [
    "### MinMaxScaler"
   ]
  },
  {
   "cell_type": "code",
   "execution_count": 36,
   "id": "84c84263",
   "metadata": {
    "scrolled": true
   },
   "outputs": [
    {
     "data": {
      "text/plain": [
       "array([[1.        , 0.        , 0.27117366, ..., 0.        , 0.01415106,\n",
       "        0.        ],\n",
       "       [0.        , 1.        , 0.4722292 , ..., 0.        , 0.13913574,\n",
       "        0.5       ],\n",
       "       [1.        , 1.        , 0.32143755, ..., 0.        , 0.01546857,\n",
       "        0.        ],\n",
       "       ...,\n",
       "       [1.        , 1.        , 0.36792055, ..., 0.33333333, 0.04577135,\n",
       "        0.        ],\n",
       "       [0.        , 0.        , 0.32143755, ..., 0.        , 0.0585561 ,\n",
       "        0.5       ],\n",
       "       [1.        , 0.        , 0.39683338, ..., 0.        , 0.01512699,\n",
       "        1.        ]])"
      ]
     },
     "execution_count": 36,
     "metadata": {},
     "output_type": "execute_result"
    }
   ],
   "source": [
    "from sklearn.preprocessing import MinMaxScaler #to equilise all dataset for higher accuracy\n",
    "Scaler=MinMaxScaler()\n",
    "Scaled=Scaler.fit_transform(x)\n",
    "Scaled"
   ]
  },
  {
   "cell_type": "code",
   "execution_count": 37,
   "id": "f6503ab6",
   "metadata": {},
   "outputs": [],
   "source": [
    "from sklearn.model_selection import train_test_split # import libraries for model devloping .\n",
    "x_train,x_test,y_train,y_test=train_test_split(x,y,test_size=0.20,random_state=2)"
   ]
  },
  {
   "cell_type": "code",
   "execution_count": 38,
   "id": "cc3043e6",
   "metadata": {},
   "outputs": [
    {
     "data": {
      "text/html": [
       "<div>\n",
       "<style scoped>\n",
       "    .dataframe tbody tr th:only-of-type {\n",
       "        vertical-align: middle;\n",
       "    }\n",
       "\n",
       "    .dataframe tbody tr th {\n",
       "        vertical-align: top;\n",
       "    }\n",
       "\n",
       "    .dataframe thead th {\n",
       "        text-align: right;\n",
       "    }\n",
       "</style>\n",
       "<table border=\"1\" class=\"dataframe\">\n",
       "  <thead>\n",
       "    <tr style=\"text-align: right;\">\n",
       "      <th></th>\n",
       "      <th>PassengerId</th>\n",
       "      <th>Survived</th>\n",
       "      <th>Pclass</th>\n",
       "      <th>Sex</th>\n",
       "      <th>Age</th>\n",
       "      <th>SibSp</th>\n",
       "      <th>Parch</th>\n",
       "      <th>Fare</th>\n",
       "      <th>Embarked</th>\n",
       "    </tr>\n",
       "  </thead>\n",
       "  <tbody>\n",
       "    <tr>\n",
       "      <th>0</th>\n",
       "      <td>1</td>\n",
       "      <td>0</td>\n",
       "      <td>3</td>\n",
       "      <td>0</td>\n",
       "      <td>22.000000</td>\n",
       "      <td>1</td>\n",
       "      <td>0</td>\n",
       "      <td>7.2500</td>\n",
       "      <td>0</td>\n",
       "    </tr>\n",
       "    <tr>\n",
       "      <th>1</th>\n",
       "      <td>2</td>\n",
       "      <td>1</td>\n",
       "      <td>1</td>\n",
       "      <td>1</td>\n",
       "      <td>38.000000</td>\n",
       "      <td>1</td>\n",
       "      <td>0</td>\n",
       "      <td>71.2833</td>\n",
       "      <td>1</td>\n",
       "    </tr>\n",
       "    <tr>\n",
       "      <th>2</th>\n",
       "      <td>3</td>\n",
       "      <td>1</td>\n",
       "      <td>3</td>\n",
       "      <td>1</td>\n",
       "      <td>26.000000</td>\n",
       "      <td>0</td>\n",
       "      <td>0</td>\n",
       "      <td>7.9250</td>\n",
       "      <td>0</td>\n",
       "    </tr>\n",
       "    <tr>\n",
       "      <th>3</th>\n",
       "      <td>4</td>\n",
       "      <td>1</td>\n",
       "      <td>1</td>\n",
       "      <td>1</td>\n",
       "      <td>35.000000</td>\n",
       "      <td>1</td>\n",
       "      <td>0</td>\n",
       "      <td>53.1000</td>\n",
       "      <td>0</td>\n",
       "    </tr>\n",
       "    <tr>\n",
       "      <th>4</th>\n",
       "      <td>5</td>\n",
       "      <td>0</td>\n",
       "      <td>3</td>\n",
       "      <td>0</td>\n",
       "      <td>35.000000</td>\n",
       "      <td>0</td>\n",
       "      <td>0</td>\n",
       "      <td>8.0500</td>\n",
       "      <td>0</td>\n",
       "    </tr>\n",
       "    <tr>\n",
       "      <th>...</th>\n",
       "      <td>...</td>\n",
       "      <td>...</td>\n",
       "      <td>...</td>\n",
       "      <td>...</td>\n",
       "      <td>...</td>\n",
       "      <td>...</td>\n",
       "      <td>...</td>\n",
       "      <td>...</td>\n",
       "      <td>...</td>\n",
       "    </tr>\n",
       "    <tr>\n",
       "      <th>886</th>\n",
       "      <td>887</td>\n",
       "      <td>0</td>\n",
       "      <td>2</td>\n",
       "      <td>0</td>\n",
       "      <td>27.000000</td>\n",
       "      <td>0</td>\n",
       "      <td>0</td>\n",
       "      <td>13.0000</td>\n",
       "      <td>0</td>\n",
       "    </tr>\n",
       "    <tr>\n",
       "      <th>887</th>\n",
       "      <td>888</td>\n",
       "      <td>1</td>\n",
       "      <td>1</td>\n",
       "      <td>1</td>\n",
       "      <td>19.000000</td>\n",
       "      <td>0</td>\n",
       "      <td>0</td>\n",
       "      <td>30.0000</td>\n",
       "      <td>0</td>\n",
       "    </tr>\n",
       "    <tr>\n",
       "      <th>888</th>\n",
       "      <td>889</td>\n",
       "      <td>0</td>\n",
       "      <td>3</td>\n",
       "      <td>1</td>\n",
       "      <td>29.699118</td>\n",
       "      <td>1</td>\n",
       "      <td>2</td>\n",
       "      <td>23.4500</td>\n",
       "      <td>0</td>\n",
       "    </tr>\n",
       "    <tr>\n",
       "      <th>889</th>\n",
       "      <td>890</td>\n",
       "      <td>1</td>\n",
       "      <td>1</td>\n",
       "      <td>0</td>\n",
       "      <td>26.000000</td>\n",
       "      <td>0</td>\n",
       "      <td>0</td>\n",
       "      <td>30.0000</td>\n",
       "      <td>1</td>\n",
       "    </tr>\n",
       "    <tr>\n",
       "      <th>890</th>\n",
       "      <td>891</td>\n",
       "      <td>0</td>\n",
       "      <td>3</td>\n",
       "      <td>0</td>\n",
       "      <td>32.000000</td>\n",
       "      <td>0</td>\n",
       "      <td>0</td>\n",
       "      <td>7.7500</td>\n",
       "      <td>2</td>\n",
       "    </tr>\n",
       "  </tbody>\n",
       "</table>\n",
       "<p>891 rows × 9 columns</p>\n",
       "</div>"
      ],
      "text/plain": [
       "     PassengerId  Survived  Pclass Sex        Age  SibSp  Parch     Fare  \\\n",
       "0              1         0       3   0  22.000000      1      0   7.2500   \n",
       "1              2         1       1   1  38.000000      1      0  71.2833   \n",
       "2              3         1       3   1  26.000000      0      0   7.9250   \n",
       "3              4         1       1   1  35.000000      1      0  53.1000   \n",
       "4              5         0       3   0  35.000000      0      0   8.0500   \n",
       "..           ...       ...     ...  ..        ...    ...    ...      ...   \n",
       "886          887         0       2   0  27.000000      0      0  13.0000   \n",
       "887          888         1       1   1  19.000000      0      0  30.0000   \n",
       "888          889         0       3   1  29.699118      1      2  23.4500   \n",
       "889          890         1       1   0  26.000000      0      0  30.0000   \n",
       "890          891         0       3   0  32.000000      0      0   7.7500   \n",
       "\n",
       "    Embarked  \n",
       "0          0  \n",
       "1          1  \n",
       "2          0  \n",
       "3          0  \n",
       "4          0  \n",
       "..       ...  \n",
       "886        0  \n",
       "887        0  \n",
       "888        0  \n",
       "889        1  \n",
       "890        2  \n",
       "\n",
       "[891 rows x 9 columns]"
      ]
     },
     "execution_count": 38,
     "metadata": {},
     "output_type": "execute_result"
    }
   ],
   "source": [
    "df"
   ]
  },
  {
   "cell_type": "code",
   "execution_count": 39,
   "id": "85c8051b",
   "metadata": {},
   "outputs": [
    {
     "name": "stdout",
     "output_type": "stream",
     "text": [
      "(891, 7) (712, 7) (179, 7)\n",
      "(891,) (712,) (179,)\n"
     ]
    }
   ],
   "source": [
    "print(x.shape,x_train.shape,x_test.shape)\n",
    "print(y.shape,y_train.shape,y_test.shape)"
   ]
  },
  {
   "cell_type": "code",
   "execution_count": 40,
   "id": "972419c4",
   "metadata": {},
   "outputs": [
    {
     "data": {
      "text/plain": [
       "0      0\n",
       "1      1\n",
       "2      1\n",
       "3      1\n",
       "4      0\n",
       "      ..\n",
       "886    0\n",
       "887    1\n",
       "888    0\n",
       "889    1\n",
       "890    0\n",
       "Name: Survived, Length: 891, dtype: int64"
      ]
     },
     "execution_count": 40,
     "metadata": {},
     "output_type": "execute_result"
    }
   ],
   "source": [
    "y"
   ]
  },
  {
   "cell_type": "code",
   "execution_count": 41,
   "id": "71cd009f",
   "metadata": {},
   "outputs": [],
   "source": [
    "from sklearn.metrics import roc_curve\n",
    "from sklearn.metrics import roc_auc_score\n"
   ]
  },
  {
   "cell_type": "code",
   "execution_count": 42,
   "id": "5f48a305",
   "metadata": {},
   "outputs": [],
   "source": [
    "from sklearn.linear_model import LogisticRegression\n",
    "from sklearn.metrics import accuracy_score\n",
    "from sklearn.metrics import confusion_matrix,classification_report"
   ]
  },
  {
   "cell_type": "code",
   "execution_count": 43,
   "id": "92402da7",
   "metadata": {},
   "outputs": [
    {
     "data": {
      "text/plain": [
       "LogisticRegression()"
      ]
     },
     "execution_count": 43,
     "metadata": {},
     "output_type": "execute_result"
    }
   ],
   "source": [
    "lg=LogisticRegression()\n",
    "lg.fit(x_train,y_train)"
   ]
  },
  {
   "cell_type": "code",
   "execution_count": 44,
   "id": "be16fc09",
   "metadata": {},
   "outputs": [
    {
     "name": "stdout",
     "output_type": "stream",
     "text": [
      "[0 0 1 0 0 0 0 0 0 0 0 1 1 0 0 1 0 0 1 0 1 1 0 1 0 1 1 0 0 0 0 0 0 0 0 1 1\n",
      " 0 0 0 0 0 1 0 0 1 1 0 0 1 0 0 0 0 0 0 1 0 0 0 1 0 0 0 1 0 1 0 0 0 1 0 1 0\n",
      " 1 0 0 0 1 0 1 0 0 0 1 1 0 0 1 0 0 0 0 0 0 1 0 1 0 0 1 0 1 1 0 1 1 0 0 0 0\n",
      " 0 0 0 1 1 0 1 0 0 1 0 0 0 0 0 0 1 0 0 0 0 1 1 0 0 0 0 0 0 1 1 1 1 0 1 0 0\n",
      " 0 1 0 0 0 0 1 0 0 1 1 0 1 0 0 0 1 1 0 0 1 0 0 1 1 1 0 0 0 0 0]\n"
     ]
    }
   ],
   "source": [
    "pred=lg.predict(x_test)\n",
    "print(pred)"
   ]
  },
  {
   "cell_type": "code",
   "execution_count": 45,
   "id": "e558620f",
   "metadata": {},
   "outputs": [
    {
     "name": "stdout",
     "output_type": "stream",
     "text": [
      "Accuracy_Score :: 0.7821229050279329\n"
     ]
    }
   ],
   "source": [
    "print(\"Accuracy_Score ::\",accuracy_score(y_test,pred))"
   ]
  },
  {
   "cell_type": "code",
   "execution_count": 46,
   "id": "d0c69ca1",
   "metadata": {},
   "outputs": [
    {
     "name": "stdout",
     "output_type": "stream",
     "text": [
      "[[91  9]\n",
      " [30 49]]\n"
     ]
    }
   ],
   "source": [
    "print(confusion_matrix(y_test,pred)) # 179 out of 49 survived and 91 not survived"
   ]
  },
  {
   "cell_type": "code",
   "execution_count": 47,
   "id": "634ffd34",
   "metadata": {},
   "outputs": [
    {
     "name": "stdout",
     "output_type": "stream",
     "text": [
      "              precision    recall  f1-score   support\n",
      "\n",
      "           0       0.75      0.91      0.82       100\n",
      "           1       0.84      0.62      0.72        79\n",
      "\n",
      "    accuracy                           0.78       179\n",
      "   macro avg       0.80      0.77      0.77       179\n",
      "weighted avg       0.79      0.78      0.78       179\n",
      "\n"
     ]
    }
   ],
   "source": [
    "print(classification_report(y_test,pred))"
   ]
  },
  {
   "cell_type": "markdown",
   "id": "2aeccbc0",
   "metadata": {},
   "source": [
    "### Model Training"
   ]
  },
  {
   "cell_type": "code",
   "execution_count": 48,
   "id": "27833a14",
   "metadata": {},
   "outputs": [
    {
     "data": {
      "text/plain": [
       "0.800561797752809"
      ]
     },
     "execution_count": 48,
     "metadata": {},
     "output_type": "execute_result"
    }
   ],
   "source": [
    "from sklearn.svm import SVC # Support VECtor Regressor\n",
    "svc=SVC(kernel='linear')\n",
    "svc.fit(x_train,y_train)\n",
    "svc.score(x_train,y_train)"
   ]
  },
  {
   "cell_type": "code",
   "execution_count": 49,
   "id": "d03736a6",
   "metadata": {},
   "outputs": [
    {
     "data": {
      "text/plain": [
       "0.6797752808988764"
      ]
     },
     "execution_count": 49,
     "metadata": {},
     "output_type": "execute_result"
    }
   ],
   "source": [
    "from sklearn.svm import SVC \n",
    "svc1=SVC(kernel='rbf')\n",
    "svc1.fit(x_train,y_train)\n",
    "svc1.score(x_train,y_train)"
   ]
  },
  {
   "cell_type": "code",
   "execution_count": 50,
   "id": "e979232a",
   "metadata": {},
   "outputs": [
    {
     "data": {
      "text/plain": [
       "0.672752808988764"
      ]
     },
     "execution_count": 50,
     "metadata": {},
     "output_type": "execute_result"
    }
   ],
   "source": [
    "from sklearn.svm import SVC \n",
    "svc2=SVC(kernel='poly')\n",
    "svc2.fit(x_train,y_train)\n",
    "svc2.score(x_train,y_train)"
   ]
  },
  {
   "cell_type": "code",
   "execution_count": 51,
   "id": "186fbb36",
   "metadata": {},
   "outputs": [],
   "source": [
    "from sklearn.naive_bayes import MultinomialNB\n",
    "from sklearn.tree import DecisionTreeClassifier\n",
    "from sklearn.neighbors import KNeighborsClassifier\n",
    "from sklearn.metrics import accuracy_score,confusion_matrix,classification_report"
   ]
  },
  {
   "cell_type": "code",
   "execution_count": 61,
   "id": "45c4a679",
   "metadata": {},
   "outputs": [
    {
     "name": "stdout",
     "output_type": "stream",
     "text": [
      "0.776536312849162\n",
      "[[82 18]\n",
      " [22 57]]\n",
      "              precision    recall  f1-score   support\n",
      "\n",
      "           0       0.79      0.82      0.80       100\n",
      "           1       0.76      0.72      0.74        79\n",
      "\n",
      "    accuracy                           0.78       179\n",
      "   macro avg       0.77      0.77      0.77       179\n",
      "weighted avg       0.78      0.78      0.78       179\n",
      "\n"
     ]
    }
   ],
   "source": [
    "dtc=DecisionTreeClassifier(criterion='gini')\n",
    "dtc.fit(x_train,y_train)\n",
    "dtc.score(x_train,y_train)\n",
    "preddtc=dtc.predict(x_test)\n",
    "print(accuracy_score(y_test,preddtc))\n",
    "print(confusion_matrix(y_test,preddtc))\n",
    "print(classification_report(y_test,preddtc))"
   ]
  },
  {
   "cell_type": "code",
   "execution_count": 53,
   "id": "4c4a1011",
   "metadata": {},
   "outputs": [
    {
     "name": "stdout",
     "output_type": "stream",
     "text": [
      "0.6815642458100558\n",
      "[[83 17]\n",
      " [40 39]]\n",
      "              precision    recall  f1-score   support\n",
      "\n",
      "           0       0.67      0.83      0.74       100\n",
      "           1       0.70      0.49      0.58        79\n",
      "\n",
      "    accuracy                           0.68       179\n",
      "   macro avg       0.69      0.66      0.66       179\n",
      "weighted avg       0.68      0.68      0.67       179\n",
      "\n"
     ]
    }
   ],
   "source": [
    "knn=KNeighborsClassifier(n_neighbors=5)\n",
    "knn.fit(x_train,y_train)\n",
    "knn.score(x_train,y_train)\n",
    "predknn=knn.predict(x_test)\n",
    "print(accuracy_score(y_test,predknn))\n",
    "print(confusion_matrix(y_test,predknn))\n",
    "print(classification_report(y_test,predknn))"
   ]
  },
  {
   "cell_type": "code",
   "execution_count": 54,
   "id": "11e362b7",
   "metadata": {},
   "outputs": [
    {
     "name": "stdout",
     "output_type": "stream",
     "text": [
      "0.6536312849162011\n",
      "[[82 18]\n",
      " [44 35]]\n",
      "              precision    recall  f1-score   support\n",
      "\n",
      "           0       0.65      0.82      0.73       100\n",
      "           1       0.66      0.44      0.53        79\n",
      "\n",
      "    accuracy                           0.65       179\n",
      "   macro avg       0.66      0.63      0.63       179\n",
      "weighted avg       0.66      0.65      0.64       179\n",
      "\n"
     ]
    }
   ],
   "source": [
    "mnb=MultinomialNB()\n",
    "mnb.fit(x_train,y_train)\n",
    "mnb.score(x_train,y_train)\n",
    "predmnb=mnb.predict(x_test)\n",
    "print(accuracy_score(y_test,predmnb))\n",
    "print(confusion_matrix(y_test,predmnb))\n",
    "print(classification_report(y_test,predmnb))"
   ]
  },
  {
   "cell_type": "markdown",
   "id": "fd356090",
   "metadata": {},
   "source": [
    "### Cross Validation "
   ]
  },
  {
   "cell_type": "markdown",
   "id": "084bfea2",
   "metadata": {},
   "source": [
    "Hold OUt"
   ]
  },
  {
   "cell_type": "code",
   "execution_count": 55,
   "id": "3f5a69a9",
   "metadata": {},
   "outputs": [
    {
     "name": "stdout",
     "output_type": "stream",
     "text": [
      "[0.80446927 0.80898876 0.78651685 0.75280899 0.78651685]\n",
      "0.7878601468834348\n",
      "0.01977106024273551\n"
     ]
    }
   ],
   "source": [
    "from sklearn.model_selection import cross_val_score\n",
    "score=cross_val_score(svc,x,y,cv=5)\n",
    "print(score)\n",
    "print(score.mean())\n",
    "print(score.std())"
   ]
  },
  {
   "cell_type": "markdown",
   "id": "e124aca8",
   "metadata": {},
   "source": [
    "### KFold Cross Validation"
   ]
  },
  {
   "cell_type": "code",
   "execution_count": 56,
   "id": "d365c25d",
   "metadata": {},
   "outputs": [
    {
     "name": "stdout",
     "output_type": "stream",
     "text": [
      "[0.59217877 0.71910112 0.70786517 0.73595506 0.71348315]\n",
      "0.6937166530663486\n",
      "0.051631948020578314\n"
     ]
    }
   ],
   "source": [
    "from sklearn.model_selection import KFold\n",
    "\n",
    "score=cross_val_score(mnb,x,y,cv=5)\n",
    "print(score)\n",
    "print(score.mean())\n",
    "print(score.std())"
   ]
  },
  {
   "cell_type": "code",
   "execution_count": 57,
   "id": "1d9c4a5f",
   "metadata": {},
   "outputs": [
    {
     "name": "stdout",
     "output_type": "stream",
     "text": [
      "[0.62011173 0.65168539 0.70786517 0.7247191  0.7247191 ]\n",
      "0.6858200991777038\n",
      "0.042414661318567574\n"
     ]
    }
   ],
   "source": [
    "from sklearn.model_selection import KFold\n",
    "\n",
    "score=cross_val_score(knn,x,y,cv=5)\n",
    "print(score)\n",
    "print(score.mean())\n",
    "print(score.std())"
   ]
  },
  {
   "cell_type": "code",
   "execution_count": 58,
   "id": "6f9788b6",
   "metadata": {},
   "outputs": [
    {
     "name": "stdout",
     "output_type": "stream",
     "text": [
      "[0.72067039 0.79213483 0.80337079 0.74719101 0.79775281]\n",
      "0.77222396585274\n",
      "0.0325659599250822\n"
     ]
    }
   ],
   "source": [
    "from sklearn.model_selection import KFold\n",
    "#model score and cross validation score nearby same\n",
    "score=cross_val_score(dtc,x,y,cv=5)\n",
    "print(score)\n",
    "print(score.mean())\n",
    "print(score.std())"
   ]
  },
  {
   "cell_type": "markdown",
   "id": "7f8eeb29",
   "metadata": {},
   "source": [
    "### Hyperparameter Tuning:GRidSearch CV"
   ]
  },
  {
   "cell_type": "code",
   "execution_count": 62,
   "id": "0ad124ef",
   "metadata": {},
   "outputs": [
    {
     "name": "stdout",
     "output_type": "stream",
     "text": [
      "{'criterion': 'entropy'}\n",
      "0.7710815391375306\n",
      "0.77\n"
     ]
    }
   ],
   "source": [
    "from sklearn.model_selection import GridSearchCV\n",
    "\n",
    "grid_param={'criterion':['gini','entropy']}\n",
    "gd_sr=GridSearchCV(estimator=dtc,param_grid=grid_param,scoring='accuracy',cv=5)\n",
    "gd_sr.fit(x,y)\n",
    "\n",
    "best_parameters=gd_sr.best_params_\n",
    "print(best_parameters)                               #DesicisionTreeClassifier having highest score with cross validation \n",
    "best_result=gd_sr.best_score_\n",
    "print(best_result)\n",
    "print(round(best_result,2))"
   ]
  },
  {
   "cell_type": "code",
   "execution_count": 63,
   "id": "a57773cc",
   "metadata": {},
   "outputs": [
    {
     "name": "stdout",
     "output_type": "stream",
     "text": [
      "{'criterion': 'gini'}\n",
      "0.7722176887828762\n",
      "0.77\n"
     ]
    }
   ],
   "source": [
    "grid_param={'criterion':['gini','entropy']}\n",
    "gd_sr=GridSearchCV(estimator=,param_grid=grid_param,scoring='accuracy',cv=5)\n",
    "gd_sr.fit(x,y)\n",
    "\n",
    "best_parameters=gd_sr.best_params_\n",
    "print(best_parameters)                              \n",
    "best_result=gd_sr.best_score_\n",
    "print(best_result)\n",
    "print(round(best_result,2))"
   ]
  },
  {
   "cell_type": "markdown",
   "id": "0a3169b5",
   "metadata": {},
   "source": [
    "### Conclusion"
   ]
  },
  {
   "cell_type": "code",
   "execution_count": 64,
   "id": "16a070da",
   "metadata": {
    "scrolled": true
   },
   "outputs": [
    {
     "name": "stdout",
     "output_type": "stream",
     "text": [
      "Predict Result survived [0 0 1 0 1 0 0 0 0 1 0 1 1 0 0 0 1 0 0 0 1 1 0 0 0 1 1 1 0 0 1 0 0 0 0 1 1\n",
      " 0 0 0 0 0 1 0 0 0 1 0 0 1 0 1 0 0 0 0 0 0 0 0 1 1 0 0 1 1 1 0 0 0 1 0 0 0\n",
      " 1 1 1 1 1 1 1 0 0 1 1 1 0 0 1 0 0 1 0 0 0 1 0 1 0 1 1 0 1 1 0 1 1 1 1 0 1\n",
      " 0 0 0 1 1 0 1 0 0 1 0 0 0 0 0 0 1 0 0 0 1 0 1 0 1 0 0 0 0 0 1 1 1 1 1 0 0\n",
      " 1 0 0 1 0 0 1 0 1 1 1 0 1 0 1 0 1 1 0 0 1 0 0 1 1 1 0 0 0 0 1]\n",
      "Actual survived 707    1\n",
      "37     0\n",
      "615    1\n",
      "169    0\n",
      "68     1\n",
      "      ..\n",
      "89     0\n",
      "80     0\n",
      "846    0\n",
      "870    0\n",
      "251    0\n",
      "Name: Survived, Length: 179, dtype: int64\n"
     ]
    }
   ],
   "source": [
    "#prediction of the total Survived and not survived titanic accident.\n",
    "pred=dtc.predict(x_test)\n",
    "print(\"Predict Result survived\",pred)\n",
    "print(\"Actual survived\",y_test)"
   ]
  },
  {
   "cell_type": "markdown",
   "id": "3cce2581",
   "metadata": {},
   "source": [
    "### Saving Best Model"
   ]
  },
  {
   "cell_type": "raw",
   "id": "61cfc4ae",
   "metadata": {},
   "source": [
    "After hyperparametertuning and cross validatio we got best score model :\n",
    "\n",
    "DesicisionTreeClassifier having highest score  \n",
    "\n"
   ]
  },
  {
   "cell_type": "code",
   "execution_count": 66,
   "id": "3d4ae66f",
   "metadata": {},
   "outputs": [],
   "source": [
    "import pickle\n",
    "filename='Titanic Survived'\n",
    "pickle.dump(dtc,open(filename,'wb'))"
   ]
  },
  {
   "cell_type": "code",
   "execution_count": null,
   "id": "19c0ec5c",
   "metadata": {},
   "outputs": [],
   "source": []
  }
 ],
 "metadata": {
  "kernelspec": {
   "display_name": "Python 3",
   "language": "python",
   "name": "python3"
  },
  "language_info": {
   "codemirror_mode": {
    "name": "ipython",
    "version": 3
   },
   "file_extension": ".py",
   "mimetype": "text/x-python",
   "name": "python",
   "nbconvert_exporter": "python",
   "pygments_lexer": "ipython3",
   "version": "3.8.8"
  }
 },
 "nbformat": 4,
 "nbformat_minor": 5
}
